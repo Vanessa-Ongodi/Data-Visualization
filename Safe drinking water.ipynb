{
 "cells": [
  {
   "cell_type": "code",
   "execution_count": 20,
   "id": "f2e1289a",
   "metadata": {},
   "outputs": [],
   "source": [
    "import pandas as pd\n",
    "import numpy as np\n",
    "import seaborn as sns\n",
    "import matplotlib.pyplot as plt\n",
    "%matplotlib inline"
   ]
  },
  {
   "cell_type": "code",
   "execution_count": 21,
   "id": "1212324c",
   "metadata": {},
   "outputs": [
    {
     "data": {
      "text/html": [
       "<div>\n",
       "<style scoped>\n",
       "    .dataframe tbody tr th:only-of-type {\n",
       "        vertical-align: middle;\n",
       "    }\n",
       "\n",
       "    .dataframe tbody tr th {\n",
       "        vertical-align: top;\n",
       "    }\n",
       "\n",
       "    .dataframe thead th {\n",
       "        text-align: right;\n",
       "    }\n",
       "</style>\n",
       "<table border=\"1\" class=\"dataframe\">\n",
       "  <thead>\n",
       "    <tr style=\"text-align: right;\">\n",
       "      <th></th>\n",
       "      <th>Country</th>\n",
       "      <th>Population</th>\n",
       "    </tr>\n",
       "  </thead>\n",
       "  <tbody>\n",
       "    <tr>\n",
       "      <th>0</th>\n",
       "      <td>China</td>\n",
       "      <td>1439323776</td>\n",
       "    </tr>\n",
       "    <tr>\n",
       "      <th>1</th>\n",
       "      <td>India</td>\n",
       "      <td>1380004385</td>\n",
       "    </tr>\n",
       "    <tr>\n",
       "      <th>2</th>\n",
       "      <td>United States</td>\n",
       "      <td>331002651</td>\n",
       "    </tr>\n",
       "    <tr>\n",
       "      <th>3</th>\n",
       "      <td>Indonesia</td>\n",
       "      <td>273523615</td>\n",
       "    </tr>\n",
       "    <tr>\n",
       "      <th>4</th>\n",
       "      <td>Pakistan</td>\n",
       "      <td>220892340</td>\n",
       "    </tr>\n",
       "  </tbody>\n",
       "</table>\n",
       "</div>"
      ],
      "text/plain": [
       "         Country  Population\n",
       "0          China  1439323776\n",
       "1          India  1380004385\n",
       "2  United States   331002651\n",
       "3      Indonesia   273523615\n",
       "4       Pakistan   220892340"
      ]
     },
     "execution_count": 21,
     "metadata": {},
     "output_type": "execute_result"
    }
   ],
   "source": [
    "population = pd.read_csv(\"World population.csv\")\n",
    "population.head()"
   ]
  },
  {
   "cell_type": "code",
   "execution_count": 22,
   "id": "607be14f",
   "metadata": {},
   "outputs": [
    {
     "data": {
      "text/html": [
       "<div>\n",
       "<style scoped>\n",
       "    .dataframe tbody tr th:only-of-type {\n",
       "        vertical-align: middle;\n",
       "    }\n",
       "\n",
       "    .dataframe tbody tr th {\n",
       "        vertical-align: top;\n",
       "    }\n",
       "\n",
       "    .dataframe thead th {\n",
       "        text-align: right;\n",
       "    }\n",
       "</style>\n",
       "<table border=\"1\" class=\"dataframe\">\n",
       "  <thead>\n",
       "    <tr style=\"text-align: right;\">\n",
       "      <th></th>\n",
       "      <th>Country</th>\n",
       "      <th>Population_without</th>\n",
       "    </tr>\n",
       "  </thead>\n",
       "  <tbody>\n",
       "    <tr>\n",
       "      <th>0</th>\n",
       "      <td>India</td>\n",
       "      <td>77298992</td>\n",
       "    </tr>\n",
       "    <tr>\n",
       "      <th>1</th>\n",
       "      <td>China</td>\n",
       "      <td>63308154</td>\n",
       "    </tr>\n",
       "    <tr>\n",
       "      <th>2</th>\n",
       "      <td>Nigeria</td>\n",
       "      <td>57058296</td>\n",
       "    </tr>\n",
       "    <tr>\n",
       "      <th>3</th>\n",
       "      <td>Ethiopia</td>\n",
       "      <td>43056741</td>\n",
       "    </tr>\n",
       "    <tr>\n",
       "      <th>4</th>\n",
       "      <td>DR Congo</td>\n",
       "      <td>36292403</td>\n",
       "    </tr>\n",
       "  </tbody>\n",
       "</table>\n",
       "</div>"
      ],
      "text/plain": [
       "    Country  Population_without\n",
       "0     India            77298992\n",
       "1     China            63308154\n",
       "2   Nigeria            57058296\n",
       "3  Ethiopia            43056741\n",
       "4  DR Congo            36292403"
      ]
     },
     "execution_count": 22,
     "metadata": {},
     "output_type": "execute_result"
    }
   ],
   "source": [
    "population_without = pd.read_csv(\"World population without water.csv\")\n",
    "population_without.head()"
   ]
  },
  {
   "cell_type": "code",
   "execution_count": 23,
   "id": "f0ad5ee1",
   "metadata": {},
   "outputs": [
    {
     "name": "stdout",
     "output_type": "stream",
     "text": [
      "<class 'pandas.core.frame.DataFrame'>\n",
      "RangeIndex: 235 entries, 0 to 234\n",
      "Data columns (total 2 columns):\n",
      " #   Column      Non-Null Count  Dtype \n",
      "---  ------      --------------  ----- \n",
      " 0   Country     235 non-null    object\n",
      " 1   Population  235 non-null    int64 \n",
      "dtypes: int64(1), object(1)\n",
      "memory usage: 3.8+ KB\n"
     ]
    }
   ],
   "source": [
    "population.info()"
   ]
  },
  {
   "cell_type": "code",
   "execution_count": 24,
   "id": "b13ea136",
   "metadata": {},
   "outputs": [
    {
     "name": "stdout",
     "output_type": "stream",
     "text": [
      "<class 'pandas.core.frame.DataFrame'>\n",
      "RangeIndex: 149 entries, 0 to 148\n",
      "Data columns (total 2 columns):\n",
      " #   Column              Non-Null Count  Dtype \n",
      "---  ------              --------------  ----- \n",
      " 0   Country             149 non-null    object\n",
      " 1   Population_without  149 non-null    int64 \n",
      "dtypes: int64(1), object(1)\n",
      "memory usage: 2.5+ KB\n"
     ]
    }
   ],
   "source": [
    "population_without.info()"
   ]
  },
  {
   "cell_type": "code",
   "execution_count": 25,
   "id": "1f5fa256",
   "metadata": {},
   "outputs": [
    {
     "data": {
      "text/html": [
       "<div>\n",
       "<style scoped>\n",
       "    .dataframe tbody tr th:only-of-type {\n",
       "        vertical-align: middle;\n",
       "    }\n",
       "\n",
       "    .dataframe tbody tr th {\n",
       "        vertical-align: top;\n",
       "    }\n",
       "\n",
       "    .dataframe thead th {\n",
       "        text-align: right;\n",
       "    }\n",
       "</style>\n",
       "<table border=\"1\" class=\"dataframe\">\n",
       "  <thead>\n",
       "    <tr style=\"text-align: right;\">\n",
       "      <th></th>\n",
       "      <th>Country</th>\n",
       "      <th>Population</th>\n",
       "      <th>Population_without</th>\n",
       "    </tr>\n",
       "  </thead>\n",
       "  <tbody>\n",
       "    <tr>\n",
       "      <th>0</th>\n",
       "      <td>China</td>\n",
       "      <td>1439323776</td>\n",
       "      <td>63308154</td>\n",
       "    </tr>\n",
       "    <tr>\n",
       "      <th>1</th>\n",
       "      <td>India</td>\n",
       "      <td>1380004385</td>\n",
       "      <td>77298992</td>\n",
       "    </tr>\n",
       "    <tr>\n",
       "      <th>2</th>\n",
       "      <td>United States</td>\n",
       "      <td>331002651</td>\n",
       "      <td>2567026</td>\n",
       "    </tr>\n",
       "    <tr>\n",
       "      <th>3</th>\n",
       "      <td>Indonesia</td>\n",
       "      <td>273523615</td>\n",
       "      <td>32556290</td>\n",
       "    </tr>\n",
       "    <tr>\n",
       "      <th>4</th>\n",
       "      <td>Pakistan</td>\n",
       "      <td>220892340</td>\n",
       "      <td>17150719</td>\n",
       "    </tr>\n",
       "  </tbody>\n",
       "</table>\n",
       "</div>"
      ],
      "text/plain": [
       "         Country  Population  Population_without\n",
       "0          China  1439323776            63308154\n",
       "1          India  1380004385            77298992\n",
       "2  United States   331002651             2567026\n",
       "3      Indonesia   273523615            32556290\n",
       "4       Pakistan   220892340            17150719"
      ]
     },
     "execution_count": 25,
     "metadata": {},
     "output_type": "execute_result"
    }
   ],
   "source": [
    "df = pd.merge(population, population_without, how='inner')\n",
    "df.head()"
   ]
  },
  {
   "cell_type": "code",
   "execution_count": 26,
   "id": "8efd9ece",
   "metadata": {},
   "outputs": [
    {
     "name": "stdout",
     "output_type": "stream",
     "text": [
      "<class 'pandas.core.frame.DataFrame'>\n",
      "Int64Index: 149 entries, 0 to 148\n",
      "Data columns (total 3 columns):\n",
      " #   Column              Non-Null Count  Dtype \n",
      "---  ------              --------------  ----- \n",
      " 0   Country             149 non-null    object\n",
      " 1   Population          149 non-null    int64 \n",
      " 2   Population_without  149 non-null    int64 \n",
      "dtypes: int64(2), object(1)\n",
      "memory usage: 4.7+ KB\n"
     ]
    }
   ],
   "source": [
    "df.info()"
   ]
  },
  {
   "cell_type": "markdown",
   "id": "3ddece5a",
   "metadata": {},
   "source": [
    "### Calculate percentage population without water\n"
   ]
  },
  {
   "cell_type": "code",
   "execution_count": 27,
   "id": "1ba4bc4f",
   "metadata": {},
   "outputs": [],
   "source": [
    "#divide population without by population and multiply by 100\n",
    "df['Percentage_without'] = df['Population_without']/df['Population']*100"
   ]
  },
  {
   "cell_type": "code",
   "execution_count": 28,
   "id": "34dd4720",
   "metadata": {},
   "outputs": [
    {
     "data": {
      "text/html": [
       "<div>\n",
       "<style scoped>\n",
       "    .dataframe tbody tr th:only-of-type {\n",
       "        vertical-align: middle;\n",
       "    }\n",
       "\n",
       "    .dataframe tbody tr th {\n",
       "        vertical-align: top;\n",
       "    }\n",
       "\n",
       "    .dataframe thead th {\n",
       "        text-align: right;\n",
       "    }\n",
       "</style>\n",
       "<table border=\"1\" class=\"dataframe\">\n",
       "  <thead>\n",
       "    <tr style=\"text-align: right;\">\n",
       "      <th></th>\n",
       "      <th>Country</th>\n",
       "      <th>Population</th>\n",
       "      <th>Population_without</th>\n",
       "      <th>Percentage_without</th>\n",
       "    </tr>\n",
       "  </thead>\n",
       "  <tbody>\n",
       "    <tr>\n",
       "      <th>0</th>\n",
       "      <td>China</td>\n",
       "      <td>1439323776</td>\n",
       "      <td>63308154</td>\n",
       "      <td>4.398465</td>\n",
       "    </tr>\n",
       "    <tr>\n",
       "      <th>1</th>\n",
       "      <td>India</td>\n",
       "      <td>1380004385</td>\n",
       "      <td>77298992</td>\n",
       "      <td>5.601358</td>\n",
       "    </tr>\n",
       "    <tr>\n",
       "      <th>2</th>\n",
       "      <td>United States</td>\n",
       "      <td>331002651</td>\n",
       "      <td>2567026</td>\n",
       "      <td>0.775530</td>\n",
       "    </tr>\n",
       "    <tr>\n",
       "      <th>3</th>\n",
       "      <td>Indonesia</td>\n",
       "      <td>273523615</td>\n",
       "      <td>32556290</td>\n",
       "      <td>11.902552</td>\n",
       "    </tr>\n",
       "    <tr>\n",
       "      <th>4</th>\n",
       "      <td>Pakistan</td>\n",
       "      <td>220892340</td>\n",
       "      <td>17150719</td>\n",
       "      <td>7.764289</td>\n",
       "    </tr>\n",
       "  </tbody>\n",
       "</table>\n",
       "</div>"
      ],
      "text/plain": [
       "         Country  Population  Population_without  Percentage_without\n",
       "0          China  1439323776            63308154            4.398465\n",
       "1          India  1380004385            77298992            5.601358\n",
       "2  United States   331002651             2567026            0.775530\n",
       "3      Indonesia   273523615            32556290           11.902552\n",
       "4       Pakistan   220892340            17150719            7.764289"
      ]
     },
     "execution_count": 28,
     "metadata": {},
     "output_type": "execute_result"
    }
   ],
   "source": [
    "df.head()"
   ]
  },
  {
   "cell_type": "markdown",
   "id": "779dd6f6",
   "metadata": {},
   "source": [
    "### Calculate percentage population with water"
   ]
  },
  {
   "cell_type": "code",
   "execution_count": 29,
   "id": "d1b044cc",
   "metadata": {},
   "outputs": [],
   "source": [
    "#minus population without from population with\n",
    "df['Population_with'] = df['Population']-df['Population_without']"
   ]
  },
  {
   "cell_type": "code",
   "execution_count": 30,
   "id": "bd0f627a",
   "metadata": {},
   "outputs": [],
   "source": [
    "#divide\n",
    "df['Percentage_with'] = df['Population_with']/df['Population']*100"
   ]
  },
  {
   "cell_type": "code",
   "execution_count": 31,
   "id": "59a041b8",
   "metadata": {},
   "outputs": [
    {
     "data": {
      "text/html": [
       "<div>\n",
       "<style scoped>\n",
       "    .dataframe tbody tr th:only-of-type {\n",
       "        vertical-align: middle;\n",
       "    }\n",
       "\n",
       "    .dataframe tbody tr th {\n",
       "        vertical-align: top;\n",
       "    }\n",
       "\n",
       "    .dataframe thead th {\n",
       "        text-align: right;\n",
       "    }\n",
       "</style>\n",
       "<table border=\"1\" class=\"dataframe\">\n",
       "  <thead>\n",
       "    <tr style=\"text-align: right;\">\n",
       "      <th></th>\n",
       "      <th>Country</th>\n",
       "      <th>Population</th>\n",
       "      <th>Population_without</th>\n",
       "      <th>Percentage_without</th>\n",
       "      <th>Population_with</th>\n",
       "      <th>Percentage_with</th>\n",
       "    </tr>\n",
       "  </thead>\n",
       "  <tbody>\n",
       "    <tr>\n",
       "      <th>0</th>\n",
       "      <td>China</td>\n",
       "      <td>1439323776</td>\n",
       "      <td>63308154</td>\n",
       "      <td>4.398465</td>\n",
       "      <td>1376015622</td>\n",
       "      <td>95.601535</td>\n",
       "    </tr>\n",
       "    <tr>\n",
       "      <th>1</th>\n",
       "      <td>India</td>\n",
       "      <td>1380004385</td>\n",
       "      <td>77298992</td>\n",
       "      <td>5.601358</td>\n",
       "      <td>1302705393</td>\n",
       "      <td>94.398642</td>\n",
       "    </tr>\n",
       "    <tr>\n",
       "      <th>2</th>\n",
       "      <td>United States</td>\n",
       "      <td>331002651</td>\n",
       "      <td>2567026</td>\n",
       "      <td>0.775530</td>\n",
       "      <td>328435625</td>\n",
       "      <td>99.224470</td>\n",
       "    </tr>\n",
       "    <tr>\n",
       "      <th>3</th>\n",
       "      <td>Indonesia</td>\n",
       "      <td>273523615</td>\n",
       "      <td>32556290</td>\n",
       "      <td>11.902552</td>\n",
       "      <td>240967325</td>\n",
       "      <td>88.097448</td>\n",
       "    </tr>\n",
       "    <tr>\n",
       "      <th>4</th>\n",
       "      <td>Pakistan</td>\n",
       "      <td>220892340</td>\n",
       "      <td>17150719</td>\n",
       "      <td>7.764289</td>\n",
       "      <td>203741621</td>\n",
       "      <td>92.235711</td>\n",
       "    </tr>\n",
       "  </tbody>\n",
       "</table>\n",
       "</div>"
      ],
      "text/plain": [
       "         Country  Population  Population_without  Percentage_without  \\\n",
       "0          China  1439323776            63308154            4.398465   \n",
       "1          India  1380004385            77298992            5.601358   \n",
       "2  United States   331002651             2567026            0.775530   \n",
       "3      Indonesia   273523615            32556290           11.902552   \n",
       "4       Pakistan   220892340            17150719            7.764289   \n",
       "\n",
       "   Population_with  Percentage_with  \n",
       "0       1376015622        95.601535  \n",
       "1       1302705393        94.398642  \n",
       "2        328435625        99.224470  \n",
       "3        240967325        88.097448  \n",
       "4        203741621        92.235711  "
      ]
     },
     "execution_count": 31,
     "metadata": {},
     "output_type": "execute_result"
    }
   ],
   "source": [
    "df.head()"
   ]
  },
  {
   "cell_type": "code",
   "execution_count": 32,
   "id": "4ebec091",
   "metadata": {},
   "outputs": [],
   "source": [
    "#add continent\n",
    "continent = pd.read_csv(\"Countries and continent.csv\")"
   ]
  },
  {
   "cell_type": "code",
   "execution_count": 33,
   "id": "acb8e6c7",
   "metadata": {},
   "outputs": [
    {
     "data": {
      "text/html": [
       "<div>\n",
       "<style scoped>\n",
       "    .dataframe tbody tr th:only-of-type {\n",
       "        vertical-align: middle;\n",
       "    }\n",
       "\n",
       "    .dataframe tbody tr th {\n",
       "        vertical-align: top;\n",
       "    }\n",
       "\n",
       "    .dataframe thead th {\n",
       "        text-align: right;\n",
       "    }\n",
       "</style>\n",
       "<table border=\"1\" class=\"dataframe\">\n",
       "  <thead>\n",
       "    <tr style=\"text-align: right;\">\n",
       "      <th></th>\n",
       "      <th>Country</th>\n",
       "      <th>Population</th>\n",
       "      <th>Population_without</th>\n",
       "      <th>Percentage_without</th>\n",
       "      <th>Population_with</th>\n",
       "      <th>Percentage_with</th>\n",
       "      <th>Country Code</th>\n",
       "      <th>Continent</th>\n",
       "    </tr>\n",
       "  </thead>\n",
       "  <tbody>\n",
       "    <tr>\n",
       "      <th>0</th>\n",
       "      <td>China</td>\n",
       "      <td>1.439324e+09</td>\n",
       "      <td>63308154.0</td>\n",
       "      <td>4.398465</td>\n",
       "      <td>1.376016e+09</td>\n",
       "      <td>95.601535</td>\n",
       "      <td>CHN</td>\n",
       "      <td>Asia</td>\n",
       "    </tr>\n",
       "    <tr>\n",
       "      <th>1</th>\n",
       "      <td>India</td>\n",
       "      <td>1.380004e+09</td>\n",
       "      <td>77298992.0</td>\n",
       "      <td>5.601358</td>\n",
       "      <td>1.302705e+09</td>\n",
       "      <td>94.398642</td>\n",
       "      <td>IND</td>\n",
       "      <td>Asia</td>\n",
       "    </tr>\n",
       "    <tr>\n",
       "      <th>2</th>\n",
       "      <td>United States</td>\n",
       "      <td>3.310027e+08</td>\n",
       "      <td>2567026.0</td>\n",
       "      <td>0.775530</td>\n",
       "      <td>3.284356e+08</td>\n",
       "      <td>99.224470</td>\n",
       "      <td>USA</td>\n",
       "      <td>North America</td>\n",
       "    </tr>\n",
       "    <tr>\n",
       "      <th>3</th>\n",
       "      <td>Indonesia</td>\n",
       "      <td>2.735236e+08</td>\n",
       "      <td>32556290.0</td>\n",
       "      <td>11.902552</td>\n",
       "      <td>2.409673e+08</td>\n",
       "      <td>88.097448</td>\n",
       "      <td>IDN</td>\n",
       "      <td>Asia</td>\n",
       "    </tr>\n",
       "    <tr>\n",
       "      <th>4</th>\n",
       "      <td>Pakistan</td>\n",
       "      <td>2.208923e+08</td>\n",
       "      <td>17150719.0</td>\n",
       "      <td>7.764289</td>\n",
       "      <td>2.037416e+08</td>\n",
       "      <td>92.235711</td>\n",
       "      <td>PAK</td>\n",
       "      <td>Asia</td>\n",
       "    </tr>\n",
       "  </tbody>\n",
       "</table>\n",
       "</div>"
      ],
      "text/plain": [
       "         Country    Population  Population_without  Percentage_without  \\\n",
       "0          China  1.439324e+09          63308154.0            4.398465   \n",
       "1          India  1.380004e+09          77298992.0            5.601358   \n",
       "2  United States  3.310027e+08           2567026.0            0.775530   \n",
       "3      Indonesia  2.735236e+08          32556290.0           11.902552   \n",
       "4       Pakistan  2.208923e+08          17150719.0            7.764289   \n",
       "\n",
       "   Population_with  Percentage_with Country Code      Continent  \n",
       "0     1.376016e+09        95.601535          CHN           Asia  \n",
       "1     1.302705e+09        94.398642          IND           Asia  \n",
       "2     3.284356e+08        99.224470          USA  North America  \n",
       "3     2.409673e+08        88.097448          IDN           Asia  \n",
       "4     2.037416e+08        92.235711          PAK           Asia  "
      ]
     },
     "execution_count": 33,
     "metadata": {},
     "output_type": "execute_result"
    }
   ],
   "source": [
    "df1 = pd.merge(df, continent, how='outer')\n",
    "df1.head()"
   ]
  },
  {
   "cell_type": "code",
   "execution_count": 34,
   "id": "fad9e481",
   "metadata": {},
   "outputs": [
    {
     "name": "stdout",
     "output_type": "stream",
     "text": [
      "<class 'pandas.core.frame.DataFrame'>\n",
      "Int64Index: 227 entries, 0 to 226\n",
      "Data columns (total 8 columns):\n",
      " #   Column              Non-Null Count  Dtype  \n",
      "---  ------              --------------  -----  \n",
      " 0   Country             227 non-null    object \n",
      " 1   Population          149 non-null    float64\n",
      " 2   Population_without  149 non-null    float64\n",
      " 3   Percentage_without  149 non-null    float64\n",
      " 4   Population_with     149 non-null    float64\n",
      " 5   Percentage_with     149 non-null    float64\n",
      " 6   Country Code        204 non-null    object \n",
      " 7   Continent           204 non-null    object \n",
      "dtypes: float64(5), object(3)\n",
      "memory usage: 16.0+ KB\n"
     ]
    }
   ],
   "source": [
    "df1.info()"
   ]
  },
  {
   "cell_type": "code",
   "execution_count": 35,
   "id": "90156646",
   "metadata": {},
   "outputs": [],
   "source": [
    "import os\n",
    "import plotly\n",
    "import plotly.graph_objs as go"
   ]
  },
  {
   "cell_type": "code",
   "execution_count": 36,
   "id": "7f80a4a3",
   "metadata": {},
   "outputs": [],
   "source": [
    "import plotly.express as px\n",
    "import plotly.graph_objects as go\n",
    "from plotly.offline import iplot\n",
    "import plotly.io as pio"
   ]
  },
  {
   "cell_type": "code",
   "execution_count": 37,
   "id": "961be71d",
   "metadata": {},
   "outputs": [
    {
     "data": {
      "application/vnd.plotly.v1+json": {
       "config": {
        "linkText": "Export to plot.ly",
        "plotlyServerURL": "https://plot.ly",
        "showLink": false
       },
       "data": [
        {
         "branchvalues": "total",
         "customdata": [
          [
           60.48411355571079
          ],
          [
           95.07835333763987
          ],
          [
           85.14198202441885
          ],
          [
           56.73061429054077
          ],
          [
           97.99344423000336
          ],
          [
           99.14222289898164
          ],
          [
           null
          ],
          [
           null
          ],
          [
           null
          ],
          [
           null
          ],
          [
           87.662144570511
          ],
          [
           98.47753557587654
          ],
          [
           null
          ],
          [
           null
          ],
          [
           87.57080048080573
          ],
          [
           99.70213136146151
          ],
          [
           99.70031715499618
          ],
          [
           null
          ],
          [
           99.54605812467935
          ],
          [
           80.72056057806519
          ],
          [
           null
          ],
          [
           null
          ],
          [
           90.68816033141718
          ],
          [
           99.89548341435477
          ],
          [
           96.57313851218751
          ],
          [
           98.1722926912243
          ],
          [
           null
          ],
          [
           99.37830694493516
          ],
          [
           84.66469820300391
          ],
          [
           79.40785906126963
          ],
          [
           92.16636360202666
          ],
          [
           77.25485997488481
          ],
          [
           78.58497951262689
          ],
          [
           99.8090914471919
          ],
          [
           70.69529441068275
          ],
          [
           57.733730170906085
          ],
          [
           null
          ],
          [
           99.0599910515693
          ],
          [
           95.60153489745451
          ],
          [
           91.96826886271066
          ],
          [
           91.14938920263431
          ],
          [
           79.31924596332026
          ],
          [
           null
          ],
          [
           null
          ],
          [
           99.8975176497381
          ],
          [
           97.90636966006677
          ],
          [
           null
          ],
          [
           99.58757859111235
          ],
          [
           94.90082474765632
          ],
          [
           null
          ],
          [
           null
          ],
          [
           null
          ],
          [
           84.06289964233444
          ],
          [
           59.47763011260553
          ],
          [
           null
          ],
          [
           90.74908906882591
          ],
          [
           85.49861678424692
          ],
          [
           87.96254321955824
          ],
          [
           99.45799752740048
          ],
          [
           null
          ],
          [
           93.95396846075633
          ],
          [
           56.60509556410083
          ],
          [
           60.22274287232114
          ],
          [
           99.6034028502829
          ],
          [
           75.35288114438993
          ],
          [
           62.54749721276966
          ],
          [
           null
          ],
          [
           95.83343094110626
          ],
          [
           null
          ],
          [
           null
          ],
          [
           null
          ],
          [
           94.04946862473234
          ],
          [
           91.54149432193417
          ],
          [
           null
          ],
          [
           null
          ],
          [
           null
          ],
          [
           89.87234551992827
          ],
          [
           null
          ],
          [
           null
          ],
          [
           96.68867698159487
          ],
          [
           null
          ],
          [
           93.46839017328394
          ],
          [
           79.80442091725334
          ],
          [
           81.72760074817035
          ],
          [
           98.34136840285194
          ],
          [
           60.3227108935843
          ],
          [
           91.90339404683095
          ],
          [
           null
          ],
          [
           null
          ],
          [
           null
          ],
          [
           94.3986415666353
          ],
          [
           88.09744818559815
          ],
          [
           96.4488638207
          ],
          [
           null
          ],
          [
           88.14921044302253
          ],
          [
           98.02136018045334
          ],
          [
           null
          ],
          [
           null
          ],
          [
           93.94687972681041
          ],
          [
           null
          ],
          [
           97.18455133491337
          ],
          [
           93.355528208434
          ],
          [
           67.23302335878235
          ],
          [
           69.26052122663229
          ],
          [
           null
          ],
          [
           null
          ],
          [
           null
          ],
          [
           99.10185312455876
          ],
          [
           null
          ],
          [
           90.86612218059086
          ],
          [
           null
          ],
          [
           77.48485339960085
          ],
          [
           99.25861441905887
          ],
          [
           99.0428902437863
          ],
          [
           82.50707550802917
          ],
          [
           78.42442020364669
          ],
          [
           null
          ],
          [
           null
          ],
          [
           96.33822860100453
          ],
          [
           null
          ],
          [
           null
          ],
          [
           57.55470961739291
          ],
          [
           91.42161987651615
          ],
          [
           98.31651419132776
          ],
          [
           98.82174254084774
          ],
          [
           80.19380733622168
          ],
          [
           null
          ],
          [
           94.7592498732894
          ],
          [
           63.36304734670808
          ],
          [
           99.9010039566965
          ],
          [
           96.31399168216008
          ],
          [
           89.52039845950367
          ],
          [
           null
          ],
          [
           88.2943646235724
          ],
          [
           67.43900021047558
          ],
          [
           99.70050918215601
          ],
          [
           86.28878564833478
          ],
          [
           57.6920334015508
          ],
          [
           81.21650695279159
          ],
          [
           91.80051989350251
          ],
          [
           96.64634146341463
          ],
          [
           92.21169662785299
          ],
          [
           null
          ],
          [
           null
          ],
          [
           null
          ],
          [
           87.78754011213434
          ],
          [
           65.46115603633449
          ],
          [
           72.32055410763432
          ],
          [
           98.5239852398524
          ],
          [
           99.70692602794479
          ],
          [
           99.40116368928479
          ],
          [
           null
          ],
          [
           94.48471456495932
          ],
          [
           92.23571129718667
          ],
          [
           null
          ],
          [
           95.1253451229232
          ],
          [
           45.62812170840271
          ],
          [
           98.12444041658102
          ],
          [
           87.70888649452348
          ],
          [
           92.35882402982018
          ],
          [
           98.29158018930679
          ],
          [
           null
          ],
          [
           null
          ],
          [
           null
          ],
          [
           null
          ],
          [
           96.92016749272013
          ],
          [
           null
          ],
          [
           79.02129195169508
          ],
          [
           98.36463091411493
          ],
          [
           96.39050902100455
          ],
          [
           99.02476639753243
          ],
          [
           null
          ],
          [
           97.36082022641097
          ],
          [
           null
          ],
          [
           97.26680781921667
          ],
          [
           81.28056220025326
          ],
          [
           99.18723835808278
          ],
          [
           95.84735680803685
          ],
          [
           66.37455539268417
          ],
          [
           null
          ],
          [
           null
          ],
          [
           null
          ],
          [
           99.50186104636119
          ],
          [
           83.14140378870377
          ],
          [
           null
          ],
          [
           93.64971136607467
          ],
          [
           60.4638580990689
          ],
          [
           null
          ],
          [
           95.7038140265403
          ],
          [
           null
          ],
          [
           null
          ],
          [
           95.17937623940868
          ],
          [
           null
          ],
          [
           63.06645569248056
          ],
          [
           60.51971458583337
          ],
          [
           95.04374122107215
          ],
          [
           null
          ],
          [
           null
          ],
          [
           89.81899423438821
          ],
          [
           null
          ],
          [
           76.77670955461228
          ],
          [
           61.733341851064324
          ],
          [
           97.83421278442236
          ],
          [
           74.50322159817058
          ],
          [
           67.35916066292341
          ],
          [
           99.61871422489239
          ],
          [
           95.20210248319385
          ],
          [
           97.82428894611121
          ],
          [
           null
          ],
          [
           null
          ],
          [
           97.8375169606513
          ],
          [
           82.45044102330323
          ],
          [
           96.09678673423979
          ],
          [
           99.62537417589296
          ],
          [
           null
          ],
          [
           99.2244696553805
          ],
          [
           99.70533115699837
          ],
          [
           null
          ],
          [
           95.1449641049016
          ],
          [
           92.70062463206773
          ],
          [
           null
          ],
          [
           97.71493479476416
          ],
          [
           null
          ],
          [
           null
          ],
          [
           null
          ],
          [
           70.11383567899291
          ],
          [
           78.52926517016436
          ]
         ],
         "domain": {
          "x": [
           0,
           1
          ],
          "y": [
           0,
           1
          ]
         },
         "hovertemplate": "labels=%{label}<br>Percentage_with_sum=%{value}<br>parent=%{parent}<br>id=%{id}<br>Percentage_with=%{color}<extra></extra>",
         "ids": [
          "Afghanistan",
          "Albania",
          "Algeria",
          "Angola",
          "Antigua and Barbuda",
          "Argentina",
          "Armenia",
          "Aruba",
          "Australia",
          "Austria",
          "Azerbaijan",
          "Bahamas",
          "Bahamas, The",
          "Bahrain",
          "Bangladesh",
          "Barbados",
          "Belarus",
          "Belgium",
          "Belize",
          "Benin",
          "Bermuda",
          "Bhutan",
          "Bolivia",
          "Bosnia and Herzegovina",
          "Botswana",
          "Brazil",
          "Brunei Darussalam",
          "Bulgaria",
          "Burkina Faso",
          "Burundi",
          "Cabo Verde",
          "Cambodia",
          "Cameroon",
          "Canada",
          "Central African Republic",
          "Chad",
          "Channel Islands",
          "Chile",
          "China",
          "Colombia",
          "Comoros",
          "Congo",
          "Congo, Dem. Rep.",
          "Congo, Rep.",
          "Cook Islands",
          "Costa Rica",
          "Cote d'Ivoire",
          "Croatia",
          "Cuba",
          "Curacao",
          "Cyprus",
          "Czech Republic",
          "Côte d'Ivoire",
          "DR Congo",
          "Denmark",
          "Djibouti",
          "Dominican Republic",
          "Ecuador",
          "Egypt",
          "Egypt, Arab Rep.",
          "El Salvador",
          "Equatorial Guinea",
          "Eritrea",
          "Estonia",
          "Eswatini",
          "Ethiopia",
          "Faroe Islands",
          "Fiji",
          "Finland",
          "France",
          "French Polynesia",
          "Gabon",
          "Gambia",
          "Gambia, The",
          "Georgia",
          "Germany",
          "Ghana",
          "Greece",
          "Greenland",
          "Grenada",
          "Guam",
          "Guatemala",
          "Guinea",
          "Guinea-Bissau",
          "Guyana",
          "Haiti",
          "Honduras",
          "Hong Kong SAR, China",
          "Hungary",
          "Iceland",
          "India",
          "Indonesia",
          "Iran",
          "Iran, Islamic Rep.",
          "Iraq",
          "Ireland",
          "Israel",
          "Italy",
          "Jamaica",
          "Japan",
          "Jordan",
          "Kazakhstan",
          "Kenya",
          "Kiribati",
          "Korea, Dem. People's Rep.",
          "Korea, Rep.",
          "Kosovo",
          "Kuwait",
          "Kyrgyz Republic",
          "Kyrgyzstan",
          "Lao PDR",
          "Laos",
          "Latvia",
          "Lebanon",
          "Lesotho",
          "Liberia",
          "Libya",
          "Liechtenstein",
          "Lithuania",
          "Luxembourg",
          "Macao SAR, China",
          "Madagascar",
          "Malawi",
          "Malaysia",
          "Maldives",
          "Mali",
          "Malta",
          "Marshall Islands",
          "Mauritania",
          "Mauritius",
          "Mexico",
          "Micronesia",
          "Micronesia, Fed. Sts.",
          "Moldova",
          "Mongolia",
          "Montenegro",
          "Morocco",
          "Mozambique",
          "Myanmar",
          "Namibia",
          "Nauru",
          "Nepal",
          "Netherlands",
          "New Caledonia",
          "New Zealand",
          "Nicaragua",
          "Niger",
          "Nigeria",
          "Niue",
          "North Korea",
          "North Macedonia",
          "Norway",
          "Oman",
          "Pakistan",
          "Palau",
          "Panama",
          "Papua New Guinea",
          "Paraguay",
          "Peru",
          "Philippines",
          "Poland",
          "Portugal",
          "Puerto Rico",
          "Qatar",
          "Romania",
          "Russia",
          "Russian Federation",
          "Rwanda",
          "Saint Kitts & Nevis",
          "Saint Lucia",
          "Samoa",
          "San Marino",
          "Sao Tome & Principe",
          "Sao Tome and Principe",
          "Saudi Arabia",
          "Senegal",
          "Serbia",
          "Seychelles",
          "Sierra Leone",
          "Singapore",
          "Sint Maarten (Dutch part)",
          "Slovak Republic",
          "Slovenia",
          "Solomon Islands",
          "Somalia",
          "South Africa",
          "South Sudan",
          "Spain",
          "Sri Lanka",
          "St. Lucia",
          "St. Martin (French part)",
          "St. Vincent & Grenadines",
          "St. Vincent and the Grenadines",
          "State of Palestine",
          "Sudan",
          "Suriname",
          "Sweden",
          "Switzerland",
          "Syria",
          "Syrian Arab Republic",
          "Tajikistan",
          "Tanzania",
          "Thailand",
          "Timor-Leste",
          "Togo",
          "Tonga",
          "Trinidad and Tobago",
          "Tunisia",
          "Turkey",
          "Turkmenistan",
          "Tuvalu",
          "Uganda",
          "Ukraine",
          "United Arab Emirates",
          "United Kingdom",
          "United States",
          "Uruguay",
          "Uzbekistan",
          "Vanuatu",
          "Venezuela",
          "Venezuela, RB",
          "Vietnam",
          "Virgin Islands (U.S.)",
          "West Bank and Gaza",
          "Yemen, Rep.",
          "Zambia",
          "Zimbabwe"
         ],
         "labels": [
          "Afghanistan",
          "Albania",
          "Algeria",
          "Angola",
          "Antigua and Barbuda",
          "Argentina",
          "Armenia",
          "Aruba",
          "Australia",
          "Austria",
          "Azerbaijan",
          "Bahamas",
          "Bahamas, The",
          "Bahrain",
          "Bangladesh",
          "Barbados",
          "Belarus",
          "Belgium",
          "Belize",
          "Benin",
          "Bermuda",
          "Bhutan",
          "Bolivia",
          "Bosnia and Herzegovina",
          "Botswana",
          "Brazil",
          "Brunei Darussalam",
          "Bulgaria",
          "Burkina Faso",
          "Burundi",
          "Cabo Verde",
          "Cambodia",
          "Cameroon",
          "Canada",
          "Central African Republic",
          "Chad",
          "Channel Islands",
          "Chile",
          "China",
          "Colombia",
          "Comoros",
          "Congo",
          "Congo, Dem. Rep.",
          "Congo, Rep.",
          "Cook Islands",
          "Costa Rica",
          "Cote d'Ivoire",
          "Croatia",
          "Cuba",
          "Curacao",
          "Cyprus",
          "Czech Republic",
          "Côte d'Ivoire",
          "DR Congo",
          "Denmark",
          "Djibouti",
          "Dominican Republic",
          "Ecuador",
          "Egypt",
          "Egypt, Arab Rep.",
          "El Salvador",
          "Equatorial Guinea",
          "Eritrea",
          "Estonia",
          "Eswatini",
          "Ethiopia",
          "Faroe Islands",
          "Fiji",
          "Finland",
          "France",
          "French Polynesia",
          "Gabon",
          "Gambia",
          "Gambia, The",
          "Georgia",
          "Germany",
          "Ghana",
          "Greece",
          "Greenland",
          "Grenada",
          "Guam",
          "Guatemala",
          "Guinea",
          "Guinea-Bissau",
          "Guyana",
          "Haiti",
          "Honduras",
          "Hong Kong SAR, China",
          "Hungary",
          "Iceland",
          "India",
          "Indonesia",
          "Iran",
          "Iran, Islamic Rep.",
          "Iraq",
          "Ireland",
          "Israel",
          "Italy",
          "Jamaica",
          "Japan",
          "Jordan",
          "Kazakhstan",
          "Kenya",
          "Kiribati",
          "Korea, Dem. People's Rep.",
          "Korea, Rep.",
          "Kosovo",
          "Kuwait",
          "Kyrgyz Republic",
          "Kyrgyzstan",
          "Lao PDR",
          "Laos",
          "Latvia",
          "Lebanon",
          "Lesotho",
          "Liberia",
          "Libya",
          "Liechtenstein",
          "Lithuania",
          "Luxembourg",
          "Macao SAR, China",
          "Madagascar",
          "Malawi",
          "Malaysia",
          "Maldives",
          "Mali",
          "Malta",
          "Marshall Islands",
          "Mauritania",
          "Mauritius",
          "Mexico",
          "Micronesia",
          "Micronesia, Fed. Sts.",
          "Moldova",
          "Mongolia",
          "Montenegro",
          "Morocco",
          "Mozambique",
          "Myanmar",
          "Namibia",
          "Nauru",
          "Nepal",
          "Netherlands",
          "New Caledonia",
          "New Zealand",
          "Nicaragua",
          "Niger",
          "Nigeria",
          "Niue",
          "North Korea",
          "North Macedonia",
          "Norway",
          "Oman",
          "Pakistan",
          "Palau",
          "Panama",
          "Papua New Guinea",
          "Paraguay",
          "Peru",
          "Philippines",
          "Poland",
          "Portugal",
          "Puerto Rico",
          "Qatar",
          "Romania",
          "Russia",
          "Russian Federation",
          "Rwanda",
          "Saint Kitts & Nevis",
          "Saint Lucia",
          "Samoa",
          "San Marino",
          "Sao Tome & Principe",
          "Sao Tome and Principe",
          "Saudi Arabia",
          "Senegal",
          "Serbia",
          "Seychelles",
          "Sierra Leone",
          "Singapore",
          "Sint Maarten (Dutch part)",
          "Slovak Republic",
          "Slovenia",
          "Solomon Islands",
          "Somalia",
          "South Africa",
          "South Sudan",
          "Spain",
          "Sri Lanka",
          "St. Lucia",
          "St. Martin (French part)",
          "St. Vincent & Grenadines",
          "St. Vincent and the Grenadines",
          "State of Palestine",
          "Sudan",
          "Suriname",
          "Sweden",
          "Switzerland",
          "Syria",
          "Syrian Arab Republic",
          "Tajikistan",
          "Tanzania",
          "Thailand",
          "Timor-Leste",
          "Togo",
          "Tonga",
          "Trinidad and Tobago",
          "Tunisia",
          "Turkey",
          "Turkmenistan",
          "Tuvalu",
          "Uganda",
          "Ukraine",
          "United Arab Emirates",
          "United Kingdom",
          "United States",
          "Uruguay",
          "Uzbekistan",
          "Vanuatu",
          "Venezuela",
          "Venezuela, RB",
          "Vietnam",
          "Virgin Islands (U.S.)",
          "West Bank and Gaza",
          "Yemen, Rep.",
          "Zambia",
          "Zimbabwe"
         ],
         "marker": {
          "coloraxis": "coloraxis",
          "colors": [
           60.48411355571079,
           95.07835333763987,
           85.14198202441885,
           56.73061429054077,
           97.99344423000336,
           99.14222289898164,
           null,
           null,
           null,
           null,
           87.662144570511,
           98.47753557587654,
           null,
           null,
           87.57080048080573,
           99.70213136146151,
           99.70031715499618,
           null,
           99.54605812467935,
           80.72056057806519,
           null,
           null,
           90.68816033141718,
           99.89548341435477,
           96.57313851218751,
           98.1722926912243,
           null,
           99.37830694493516,
           84.66469820300391,
           79.40785906126963,
           92.16636360202666,
           77.25485997488481,
           78.58497951262689,
           99.8090914471919,
           70.69529441068275,
           57.733730170906085,
           null,
           99.0599910515693,
           95.60153489745451,
           91.96826886271066,
           91.14938920263431,
           79.31924596332026,
           null,
           null,
           99.8975176497381,
           97.90636966006677,
           null,
           99.58757859111235,
           94.90082474765632,
           null,
           null,
           null,
           84.06289964233444,
           59.47763011260553,
           null,
           90.74908906882591,
           85.49861678424692,
           87.96254321955824,
           99.45799752740048,
           null,
           93.95396846075633,
           56.60509556410083,
           60.22274287232114,
           99.6034028502829,
           75.35288114438993,
           62.54749721276966,
           null,
           95.83343094110626,
           null,
           null,
           null,
           94.04946862473234,
           91.54149432193417,
           null,
           null,
           null,
           89.87234551992827,
           null,
           null,
           96.68867698159487,
           null,
           93.46839017328394,
           79.80442091725334,
           81.72760074817035,
           98.34136840285194,
           60.3227108935843,
           91.90339404683095,
           null,
           null,
           null,
           94.3986415666353,
           88.09744818559815,
           96.4488638207,
           null,
           88.14921044302253,
           98.02136018045334,
           null,
           null,
           93.94687972681041,
           null,
           97.18455133491337,
           93.355528208434,
           67.23302335878235,
           69.26052122663229,
           null,
           null,
           null,
           99.10185312455876,
           null,
           90.86612218059086,
           null,
           77.48485339960085,
           99.25861441905887,
           99.0428902437863,
           82.50707550802917,
           78.42442020364669,
           null,
           null,
           96.33822860100453,
           null,
           null,
           57.55470961739291,
           91.42161987651615,
           98.31651419132776,
           98.82174254084774,
           80.19380733622168,
           null,
           94.7592498732894,
           63.36304734670808,
           99.9010039566965,
           96.31399168216008,
           89.52039845950367,
           null,
           88.2943646235724,
           67.43900021047558,
           99.70050918215601,
           86.28878564833478,
           57.6920334015508,
           81.21650695279159,
           91.80051989350251,
           96.64634146341463,
           92.21169662785299,
           null,
           null,
           null,
           87.78754011213434,
           65.46115603633449,
           72.32055410763432,
           98.5239852398524,
           99.70692602794479,
           99.40116368928479,
           null,
           94.48471456495932,
           92.23571129718667,
           null,
           95.1253451229232,
           45.62812170840271,
           98.12444041658102,
           87.70888649452348,
           92.35882402982018,
           98.29158018930679,
           null,
           null,
           null,
           null,
           96.92016749272013,
           null,
           79.02129195169508,
           98.36463091411493,
           96.39050902100455,
           99.02476639753243,
           null,
           97.36082022641097,
           null,
           97.26680781921667,
           81.28056220025326,
           99.18723835808278,
           95.84735680803685,
           66.37455539268417,
           null,
           null,
           null,
           99.50186104636119,
           83.14140378870377,
           null,
           93.64971136607467,
           60.4638580990689,
           null,
           95.7038140265403,
           null,
           null,
           95.17937623940868,
           null,
           63.06645569248056,
           60.51971458583337,
           95.04374122107215,
           null,
           null,
           89.81899423438821,
           null,
           76.77670955461228,
           61.733341851064324,
           97.83421278442236,
           74.50322159817058,
           67.35916066292341,
           99.61871422489239,
           95.20210248319385,
           97.82428894611121,
           null,
           null,
           97.8375169606513,
           82.45044102330323,
           96.09678673423979,
           99.62537417589296,
           null,
           99.2244696553805,
           99.70533115699837,
           null,
           95.1449641049016,
           92.70062463206773,
           null,
           97.71493479476416,
           null,
           null,
           null,
           70.11383567899291,
           78.52926517016436
          ]
         },
         "name": "",
         "parents": [
          "",
          "",
          "",
          "",
          "",
          "",
          "",
          "",
          "",
          "",
          "",
          "",
          "",
          "",
          "",
          "",
          "",
          "",
          "",
          "",
          "",
          "",
          "",
          "",
          "",
          "",
          "",
          "",
          "",
          "",
          "",
          "",
          "",
          "",
          "",
          "",
          "",
          "",
          "",
          "",
          "",
          "",
          "",
          "",
          "",
          "",
          "",
          "",
          "",
          "",
          "",
          "",
          "",
          "",
          "",
          "",
          "",
          "",
          "",
          "",
          "",
          "",
          "",
          "",
          "",
          "",
          "",
          "",
          "",
          "",
          "",
          "",
          "",
          "",
          "",
          "",
          "",
          "",
          "",
          "",
          "",
          "",
          "",
          "",
          "",
          "",
          "",
          "",
          "",
          "",
          "",
          "",
          "",
          "",
          "",
          "",
          "",
          "",
          "",
          "",
          "",
          "",
          "",
          "",
          "",
          "",
          "",
          "",
          "",
          "",
          "",
          "",
          "",
          "",
          "",
          "",
          "",
          "",
          "",
          "",
          "",
          "",
          "",
          "",
          "",
          "",
          "",
          "",
          "",
          "",
          "",
          "",
          "",
          "",
          "",
          "",
          "",
          "",
          "",
          "",
          "",
          "",
          "",
          "",
          "",
          "",
          "",
          "",
          "",
          "",
          "",
          "",
          "",
          "",
          "",
          "",
          "",
          "",
          "",
          "",
          "",
          "",
          "",
          "",
          "",
          "",
          "",
          "",
          "",
          "",
          "",
          "",
          "",
          "",
          "",
          "",
          "",
          "",
          "",
          "",
          "",
          "",
          "",
          "",
          "",
          "",
          "",
          "",
          "",
          "",
          "",
          "",
          "",
          "",
          "",
          "",
          "",
          "",
          "",
          "",
          "",
          "",
          "",
          "",
          "",
          "",
          "",
          "",
          "",
          "",
          "",
          "",
          "",
          "",
          "",
          "",
          "",
          "",
          "",
          "",
          "",
          "",
          "",
          "",
          "",
          "",
          ""
         ],
         "type": "sunburst",
         "values": [
          60.48411355571079,
          95.07835333763987,
          85.14198202441885,
          56.73061429054077,
          97.99344423000336,
          99.14222289898166,
          0,
          0,
          0,
          0,
          87.662144570511,
          98.47753557587654,
          0,
          0,
          87.57080048080573,
          99.70213136146151,
          99.70031715499618,
          0,
          99.54605812467935,
          80.72056057806519,
          0,
          0,
          90.6881603314172,
          99.89548341435477,
          96.57313851218751,
          98.1722926912243,
          0,
          99.37830694493516,
          84.66469820300391,
          79.40785906126963,
          92.16636360202666,
          77.25485997488481,
          78.58497951262689,
          99.80909144719192,
          70.69529441068275,
          57.733730170906085,
          0,
          99.0599910515693,
          95.60153489745451,
          91.96826886271066,
          91.14938920263431,
          79.31924596332026,
          0,
          0,
          99.8975176497381,
          97.90636966006677,
          0,
          99.58757859111235,
          94.90082474765632,
          0,
          0,
          0,
          84.06289964233444,
          59.47763011260554,
          0,
          90.74908906882591,
          85.49861678424692,
          87.96254321955824,
          99.45799752740047,
          0,
          93.95396846075633,
          56.60509556410083,
          60.222742872321135,
          99.60340285028289,
          75.35288114438993,
          62.54749721276966,
          0,
          95.83343094110626,
          0,
          0,
          0,
          94.04946862473234,
          91.54149432193417,
          0,
          0,
          0,
          89.87234551992827,
          0,
          0,
          96.68867698159488,
          0,
          93.46839017328394,
          79.80442091725334,
          81.72760074817035,
          98.34136840285194,
          60.3227108935843,
          91.90339404683094,
          0,
          0,
          0,
          94.3986415666353,
          88.09744818559815,
          96.4488638207,
          0,
          88.14921044302253,
          98.02136018045334,
          0,
          0,
          93.94687972681041,
          0,
          97.18455133491337,
          93.355528208434,
          67.23302335878235,
          69.26052122663229,
          0,
          0,
          0,
          99.10185312455876,
          0,
          90.86612218059086,
          0,
          77.48485339960085,
          99.25861441905887,
          99.0428902437863,
          82.50707550802917,
          78.42442020364669,
          0,
          0,
          96.33822860100453,
          0,
          0,
          57.55470961739291,
          91.42161987651616,
          98.31651419132776,
          98.82174254084774,
          80.19380733622168,
          0,
          94.7592498732894,
          63.36304734670808,
          99.9010039566965,
          96.31399168216008,
          89.52039845950367,
          0,
          88.2943646235724,
          67.43900021047558,
          99.70050918215601,
          86.28878564833478,
          57.6920334015508,
          81.21650695279159,
          91.80051989350251,
          96.64634146341463,
          92.21169662785299,
          0,
          0,
          0,
          87.78754011213434,
          65.46115603633449,
          72.32055410763432,
          98.5239852398524,
          99.7069260279448,
          99.40116368928479,
          0,
          94.48471456495933,
          92.23571129718667,
          0,
          95.1253451229232,
          45.6281217084027,
          98.12444041658102,
          87.70888649452348,
          92.35882402982018,
          98.29158018930679,
          0,
          0,
          0,
          0,
          96.92016749272013,
          0,
          79.02129195169508,
          98.36463091411493,
          96.39050902100453,
          99.02476639753243,
          0,
          97.36082022641097,
          0,
          97.26680781921667,
          81.28056220025326,
          99.18723835808278,
          95.84735680803685,
          66.37455539268417,
          0,
          0,
          0,
          99.50186104636117,
          83.14140378870377,
          0,
          93.64971136607468,
          60.4638580990689,
          0,
          95.7038140265403,
          0,
          0,
          95.17937623940868,
          0,
          63.06645569248056,
          60.51971458583337,
          95.04374122107215,
          0,
          0,
          89.81899423438821,
          0,
          76.77670955461228,
          61.733341851064324,
          97.83421278442236,
          74.50322159817058,
          67.35916066292341,
          99.61871422489239,
          95.20210248319385,
          97.82428894611121,
          0,
          0,
          97.8375169606513,
          82.45044102330323,
          96.09678673423979,
          99.62537417589296,
          0,
          99.2244696553805,
          99.70533115699838,
          0,
          95.1449641049016,
          92.70062463206773,
          0,
          97.71493479476416,
          0,
          0,
          0,
          70.11383567899291,
          78.52926517016436
         ]
        }
       ],
       "layout": {
        "coloraxis": {
         "cmid": null,
         "colorbar": {
          "title": {
           "text": "Percentage_with"
          }
         },
         "colorscale": [
          [
           0,
           "rgb(103,0,31)"
          ],
          [
           0.1,
           "rgb(178,24,43)"
          ],
          [
           0.2,
           "rgb(214,96,77)"
          ],
          [
           0.3,
           "rgb(244,165,130)"
          ],
          [
           0.4,
           "rgb(253,219,199)"
          ],
          [
           0.5,
           "rgb(247,247,247)"
          ],
          [
           0.6,
           "rgb(209,229,240)"
          ],
          [
           0.7,
           "rgb(146,197,222)"
          ],
          [
           0.8,
           "rgb(67,147,195)"
          ],
          [
           0.9,
           "rgb(33,102,172)"
          ],
          [
           1,
           "rgb(5,48,97)"
          ]
         ]
        },
        "legend": {
         "tracegroupgap": 0
        },
        "margin": {
         "t": 60
        },
        "template": {
         "data": {
          "bar": [
           {
            "error_x": {
             "color": "#2a3f5f"
            },
            "error_y": {
             "color": "#2a3f5f"
            },
            "marker": {
             "line": {
              "color": "#E5ECF6",
              "width": 0.5
             },
             "pattern": {
              "fillmode": "overlay",
              "size": 10,
              "solidity": 0.2
             }
            },
            "type": "bar"
           }
          ],
          "barpolar": [
           {
            "marker": {
             "line": {
              "color": "#E5ECF6",
              "width": 0.5
             },
             "pattern": {
              "fillmode": "overlay",
              "size": 10,
              "solidity": 0.2
             }
            },
            "type": "barpolar"
           }
          ],
          "carpet": [
           {
            "aaxis": {
             "endlinecolor": "#2a3f5f",
             "gridcolor": "white",
             "linecolor": "white",
             "minorgridcolor": "white",
             "startlinecolor": "#2a3f5f"
            },
            "baxis": {
             "endlinecolor": "#2a3f5f",
             "gridcolor": "white",
             "linecolor": "white",
             "minorgridcolor": "white",
             "startlinecolor": "#2a3f5f"
            },
            "type": "carpet"
           }
          ],
          "choropleth": [
           {
            "colorbar": {
             "outlinewidth": 0,
             "ticks": ""
            },
            "type": "choropleth"
           }
          ],
          "contour": [
           {
            "colorbar": {
             "outlinewidth": 0,
             "ticks": ""
            },
            "colorscale": [
             [
              0,
              "#0d0887"
             ],
             [
              0.1111111111111111,
              "#46039f"
             ],
             [
              0.2222222222222222,
              "#7201a8"
             ],
             [
              0.3333333333333333,
              "#9c179e"
             ],
             [
              0.4444444444444444,
              "#bd3786"
             ],
             [
              0.5555555555555556,
              "#d8576b"
             ],
             [
              0.6666666666666666,
              "#ed7953"
             ],
             [
              0.7777777777777778,
              "#fb9f3a"
             ],
             [
              0.8888888888888888,
              "#fdca26"
             ],
             [
              1,
              "#f0f921"
             ]
            ],
            "type": "contour"
           }
          ],
          "contourcarpet": [
           {
            "colorbar": {
             "outlinewidth": 0,
             "ticks": ""
            },
            "type": "contourcarpet"
           }
          ],
          "heatmap": [
           {
            "colorbar": {
             "outlinewidth": 0,
             "ticks": ""
            },
            "colorscale": [
             [
              0,
              "#0d0887"
             ],
             [
              0.1111111111111111,
              "#46039f"
             ],
             [
              0.2222222222222222,
              "#7201a8"
             ],
             [
              0.3333333333333333,
              "#9c179e"
             ],
             [
              0.4444444444444444,
              "#bd3786"
             ],
             [
              0.5555555555555556,
              "#d8576b"
             ],
             [
              0.6666666666666666,
              "#ed7953"
             ],
             [
              0.7777777777777778,
              "#fb9f3a"
             ],
             [
              0.8888888888888888,
              "#fdca26"
             ],
             [
              1,
              "#f0f921"
             ]
            ],
            "type": "heatmap"
           }
          ],
          "heatmapgl": [
           {
            "colorbar": {
             "outlinewidth": 0,
             "ticks": ""
            },
            "colorscale": [
             [
              0,
              "#0d0887"
             ],
             [
              0.1111111111111111,
              "#46039f"
             ],
             [
              0.2222222222222222,
              "#7201a8"
             ],
             [
              0.3333333333333333,
              "#9c179e"
             ],
             [
              0.4444444444444444,
              "#bd3786"
             ],
             [
              0.5555555555555556,
              "#d8576b"
             ],
             [
              0.6666666666666666,
              "#ed7953"
             ],
             [
              0.7777777777777778,
              "#fb9f3a"
             ],
             [
              0.8888888888888888,
              "#fdca26"
             ],
             [
              1,
              "#f0f921"
             ]
            ],
            "type": "heatmapgl"
           }
          ],
          "histogram": [
           {
            "marker": {
             "pattern": {
              "fillmode": "overlay",
              "size": 10,
              "solidity": 0.2
             }
            },
            "type": "histogram"
           }
          ],
          "histogram2d": [
           {
            "colorbar": {
             "outlinewidth": 0,
             "ticks": ""
            },
            "colorscale": [
             [
              0,
              "#0d0887"
             ],
             [
              0.1111111111111111,
              "#46039f"
             ],
             [
              0.2222222222222222,
              "#7201a8"
             ],
             [
              0.3333333333333333,
              "#9c179e"
             ],
             [
              0.4444444444444444,
              "#bd3786"
             ],
             [
              0.5555555555555556,
              "#d8576b"
             ],
             [
              0.6666666666666666,
              "#ed7953"
             ],
             [
              0.7777777777777778,
              "#fb9f3a"
             ],
             [
              0.8888888888888888,
              "#fdca26"
             ],
             [
              1,
              "#f0f921"
             ]
            ],
            "type": "histogram2d"
           }
          ],
          "histogram2dcontour": [
           {
            "colorbar": {
             "outlinewidth": 0,
             "ticks": ""
            },
            "colorscale": [
             [
              0,
              "#0d0887"
             ],
             [
              0.1111111111111111,
              "#46039f"
             ],
             [
              0.2222222222222222,
              "#7201a8"
             ],
             [
              0.3333333333333333,
              "#9c179e"
             ],
             [
              0.4444444444444444,
              "#bd3786"
             ],
             [
              0.5555555555555556,
              "#d8576b"
             ],
             [
              0.6666666666666666,
              "#ed7953"
             ],
             [
              0.7777777777777778,
              "#fb9f3a"
             ],
             [
              0.8888888888888888,
              "#fdca26"
             ],
             [
              1,
              "#f0f921"
             ]
            ],
            "type": "histogram2dcontour"
           }
          ],
          "mesh3d": [
           {
            "colorbar": {
             "outlinewidth": 0,
             "ticks": ""
            },
            "type": "mesh3d"
           }
          ],
          "parcoords": [
           {
            "line": {
             "colorbar": {
              "outlinewidth": 0,
              "ticks": ""
             }
            },
            "type": "parcoords"
           }
          ],
          "pie": [
           {
            "automargin": true,
            "type": "pie"
           }
          ],
          "scatter": [
           {
            "marker": {
             "colorbar": {
              "outlinewidth": 0,
              "ticks": ""
             }
            },
            "type": "scatter"
           }
          ],
          "scatter3d": [
           {
            "line": {
             "colorbar": {
              "outlinewidth": 0,
              "ticks": ""
             }
            },
            "marker": {
             "colorbar": {
              "outlinewidth": 0,
              "ticks": ""
             }
            },
            "type": "scatter3d"
           }
          ],
          "scattercarpet": [
           {
            "marker": {
             "colorbar": {
              "outlinewidth": 0,
              "ticks": ""
             }
            },
            "type": "scattercarpet"
           }
          ],
          "scattergeo": [
           {
            "marker": {
             "colorbar": {
              "outlinewidth": 0,
              "ticks": ""
             }
            },
            "type": "scattergeo"
           }
          ],
          "scattergl": [
           {
            "marker": {
             "colorbar": {
              "outlinewidth": 0,
              "ticks": ""
             }
            },
            "type": "scattergl"
           }
          ],
          "scattermapbox": [
           {
            "marker": {
             "colorbar": {
              "outlinewidth": 0,
              "ticks": ""
             }
            },
            "type": "scattermapbox"
           }
          ],
          "scatterpolar": [
           {
            "marker": {
             "colorbar": {
              "outlinewidth": 0,
              "ticks": ""
             }
            },
            "type": "scatterpolar"
           }
          ],
          "scatterpolargl": [
           {
            "marker": {
             "colorbar": {
              "outlinewidth": 0,
              "ticks": ""
             }
            },
            "type": "scatterpolargl"
           }
          ],
          "scatterternary": [
           {
            "marker": {
             "colorbar": {
              "outlinewidth": 0,
              "ticks": ""
             }
            },
            "type": "scatterternary"
           }
          ],
          "surface": [
           {
            "colorbar": {
             "outlinewidth": 0,
             "ticks": ""
            },
            "colorscale": [
             [
              0,
              "#0d0887"
             ],
             [
              0.1111111111111111,
              "#46039f"
             ],
             [
              0.2222222222222222,
              "#7201a8"
             ],
             [
              0.3333333333333333,
              "#9c179e"
             ],
             [
              0.4444444444444444,
              "#bd3786"
             ],
             [
              0.5555555555555556,
              "#d8576b"
             ],
             [
              0.6666666666666666,
              "#ed7953"
             ],
             [
              0.7777777777777778,
              "#fb9f3a"
             ],
             [
              0.8888888888888888,
              "#fdca26"
             ],
             [
              1,
              "#f0f921"
             ]
            ],
            "type": "surface"
           }
          ],
          "table": [
           {
            "cells": {
             "fill": {
              "color": "#EBF0F8"
             },
             "line": {
              "color": "white"
             }
            },
            "header": {
             "fill": {
              "color": "#C8D4E3"
             },
             "line": {
              "color": "white"
             }
            },
            "type": "table"
           }
          ]
         },
         "layout": {
          "annotationdefaults": {
           "arrowcolor": "#2a3f5f",
           "arrowhead": 0,
           "arrowwidth": 1
          },
          "autotypenumbers": "strict",
          "coloraxis": {
           "colorbar": {
            "outlinewidth": 0,
            "ticks": ""
           }
          },
          "colorscale": {
           "diverging": [
            [
             0,
             "#8e0152"
            ],
            [
             0.1,
             "#c51b7d"
            ],
            [
             0.2,
             "#de77ae"
            ],
            [
             0.3,
             "#f1b6da"
            ],
            [
             0.4,
             "#fde0ef"
            ],
            [
             0.5,
             "#f7f7f7"
            ],
            [
             0.6,
             "#e6f5d0"
            ],
            [
             0.7,
             "#b8e186"
            ],
            [
             0.8,
             "#7fbc41"
            ],
            [
             0.9,
             "#4d9221"
            ],
            [
             1,
             "#276419"
            ]
           ],
           "sequential": [
            [
             0,
             "#0d0887"
            ],
            [
             0.1111111111111111,
             "#46039f"
            ],
            [
             0.2222222222222222,
             "#7201a8"
            ],
            [
             0.3333333333333333,
             "#9c179e"
            ],
            [
             0.4444444444444444,
             "#bd3786"
            ],
            [
             0.5555555555555556,
             "#d8576b"
            ],
            [
             0.6666666666666666,
             "#ed7953"
            ],
            [
             0.7777777777777778,
             "#fb9f3a"
            ],
            [
             0.8888888888888888,
             "#fdca26"
            ],
            [
             1,
             "#f0f921"
            ]
           ],
           "sequentialminus": [
            [
             0,
             "#0d0887"
            ],
            [
             0.1111111111111111,
             "#46039f"
            ],
            [
             0.2222222222222222,
             "#7201a8"
            ],
            [
             0.3333333333333333,
             "#9c179e"
            ],
            [
             0.4444444444444444,
             "#bd3786"
            ],
            [
             0.5555555555555556,
             "#d8576b"
            ],
            [
             0.6666666666666666,
             "#ed7953"
            ],
            [
             0.7777777777777778,
             "#fb9f3a"
            ],
            [
             0.8888888888888888,
             "#fdca26"
            ],
            [
             1,
             "#f0f921"
            ]
           ]
          },
          "colorway": [
           "#636efa",
           "#EF553B",
           "#00cc96",
           "#ab63fa",
           "#FFA15A",
           "#19d3f3",
           "#FF6692",
           "#B6E880",
           "#FF97FF",
           "#FECB52"
          ],
          "font": {
           "color": "#2a3f5f"
          },
          "geo": {
           "bgcolor": "white",
           "lakecolor": "white",
           "landcolor": "#E5ECF6",
           "showlakes": true,
           "showland": true,
           "subunitcolor": "white"
          },
          "hoverlabel": {
           "align": "left"
          },
          "hovermode": "closest",
          "mapbox": {
           "style": "light"
          },
          "paper_bgcolor": "white",
          "plot_bgcolor": "#E5ECF6",
          "polar": {
           "angularaxis": {
            "gridcolor": "white",
            "linecolor": "white",
            "ticks": ""
           },
           "bgcolor": "#E5ECF6",
           "radialaxis": {
            "gridcolor": "white",
            "linecolor": "white",
            "ticks": ""
           }
          },
          "scene": {
           "xaxis": {
            "backgroundcolor": "#E5ECF6",
            "gridcolor": "white",
            "gridwidth": 2,
            "linecolor": "white",
            "showbackground": true,
            "ticks": "",
            "zerolinecolor": "white"
           },
           "yaxis": {
            "backgroundcolor": "#E5ECF6",
            "gridcolor": "white",
            "gridwidth": 2,
            "linecolor": "white",
            "showbackground": true,
            "ticks": "",
            "zerolinecolor": "white"
           },
           "zaxis": {
            "backgroundcolor": "#E5ECF6",
            "gridcolor": "white",
            "gridwidth": 2,
            "linecolor": "white",
            "showbackground": true,
            "ticks": "",
            "zerolinecolor": "white"
           }
          },
          "shapedefaults": {
           "line": {
            "color": "#2a3f5f"
           }
          },
          "ternary": {
           "aaxis": {
            "gridcolor": "white",
            "linecolor": "white",
            "ticks": ""
           },
           "baxis": {
            "gridcolor": "white",
            "linecolor": "white",
            "ticks": ""
           },
           "bgcolor": "#E5ECF6",
           "caxis": {
            "gridcolor": "white",
            "linecolor": "white",
            "ticks": ""
           }
          },
          "title": {
           "x": 0.05
          },
          "xaxis": {
           "automargin": true,
           "gridcolor": "white",
           "linecolor": "white",
           "ticks": "",
           "title": {
            "standoff": 15
           },
           "zerolinecolor": "white",
           "zerolinewidth": 2
          },
          "yaxis": {
           "automargin": true,
           "gridcolor": "white",
           "linecolor": "white",
           "ticks": "",
           "title": {
            "standoff": 15
           },
           "zerolinecolor": "white",
           "zerolinewidth": 2
          }
         }
        }
       }
      },
      "text/html": [
       "<div>                            <div id=\"15be87e6-1bbe-4cf7-a2c4-cbaae70f1af1\" class=\"plotly-graph-div\" style=\"height:525px; width:100%;\"></div>            <script type=\"text/javascript\">                require([\"plotly\"], function(Plotly) {                    window.PLOTLYENV=window.PLOTLYENV || {};                                    if (document.getElementById(\"15be87e6-1bbe-4cf7-a2c4-cbaae70f1af1\")) {                    Plotly.newPlot(                        \"15be87e6-1bbe-4cf7-a2c4-cbaae70f1af1\",                        [{\"branchvalues\":\"total\",\"customdata\":[[60.48411355571079],[95.07835333763987],[85.14198202441885],[56.73061429054077],[97.99344423000336],[99.14222289898164],[null],[null],[null],[null],[87.662144570511],[98.47753557587654],[null],[null],[87.57080048080573],[99.70213136146151],[99.70031715499618],[null],[99.54605812467935],[80.72056057806519],[null],[null],[90.68816033141718],[99.89548341435477],[96.57313851218751],[98.1722926912243],[null],[99.37830694493516],[84.66469820300391],[79.40785906126963],[92.16636360202666],[77.25485997488481],[78.58497951262689],[99.8090914471919],[70.69529441068275],[57.733730170906085],[null],[99.0599910515693],[95.60153489745451],[91.96826886271066],[91.14938920263431],[79.31924596332026],[null],[null],[99.8975176497381],[97.90636966006677],[null],[99.58757859111235],[94.90082474765632],[null],[null],[null],[84.06289964233444],[59.47763011260553],[null],[90.74908906882591],[85.49861678424692],[87.96254321955824],[99.45799752740048],[null],[93.95396846075633],[56.60509556410083],[60.22274287232114],[99.6034028502829],[75.35288114438993],[62.54749721276966],[null],[95.83343094110626],[null],[null],[null],[94.04946862473234],[91.54149432193417],[null],[null],[null],[89.87234551992827],[null],[null],[96.68867698159487],[null],[93.46839017328394],[79.80442091725334],[81.72760074817035],[98.34136840285194],[60.3227108935843],[91.90339404683095],[null],[null],[null],[94.3986415666353],[88.09744818559815],[96.4488638207],[null],[88.14921044302253],[98.02136018045334],[null],[null],[93.94687972681041],[null],[97.18455133491337],[93.355528208434],[67.23302335878235],[69.26052122663229],[null],[null],[null],[99.10185312455876],[null],[90.86612218059086],[null],[77.48485339960085],[99.25861441905887],[99.0428902437863],[82.50707550802917],[78.42442020364669],[null],[null],[96.33822860100453],[null],[null],[57.55470961739291],[91.42161987651615],[98.31651419132776],[98.82174254084774],[80.19380733622168],[null],[94.7592498732894],[63.36304734670808],[99.9010039566965],[96.31399168216008],[89.52039845950367],[null],[88.2943646235724],[67.43900021047558],[99.70050918215601],[86.28878564833478],[57.6920334015508],[81.21650695279159],[91.80051989350251],[96.64634146341463],[92.21169662785299],[null],[null],[null],[87.78754011213434],[65.46115603633449],[72.32055410763432],[98.5239852398524],[99.70692602794479],[99.40116368928479],[null],[94.48471456495932],[92.23571129718667],[null],[95.1253451229232],[45.62812170840271],[98.12444041658102],[87.70888649452348],[92.35882402982018],[98.29158018930679],[null],[null],[null],[null],[96.92016749272013],[null],[79.02129195169508],[98.36463091411493],[96.39050902100455],[99.02476639753243],[null],[97.36082022641097],[null],[97.26680781921667],[81.28056220025326],[99.18723835808278],[95.84735680803685],[66.37455539268417],[null],[null],[null],[99.50186104636119],[83.14140378870377],[null],[93.64971136607467],[60.4638580990689],[null],[95.7038140265403],[null],[null],[95.17937623940868],[null],[63.06645569248056],[60.51971458583337],[95.04374122107215],[null],[null],[89.81899423438821],[null],[76.77670955461228],[61.733341851064324],[97.83421278442236],[74.50322159817058],[67.35916066292341],[99.61871422489239],[95.20210248319385],[97.82428894611121],[null],[null],[97.8375169606513],[82.45044102330323],[96.09678673423979],[99.62537417589296],[null],[99.2244696553805],[99.70533115699837],[null],[95.1449641049016],[92.70062463206773],[null],[97.71493479476416],[null],[null],[null],[70.11383567899291],[78.52926517016436]],\"domain\":{\"x\":[0.0,1.0],\"y\":[0.0,1.0]},\"hovertemplate\":\"labels=%{label}<br>Percentage_with_sum=%{value}<br>parent=%{parent}<br>id=%{id}<br>Percentage_with=%{color}<extra></extra>\",\"ids\":[\"Afghanistan\",\"Albania\",\"Algeria\",\"Angola\",\"Antigua and Barbuda\",\"Argentina\",\"Armenia\",\"Aruba\",\"Australia\",\"Austria\",\"Azerbaijan\",\"Bahamas\",\"Bahamas, The\",\"Bahrain\",\"Bangladesh\",\"Barbados\",\"Belarus\",\"Belgium\",\"Belize\",\"Benin\",\"Bermuda\",\"Bhutan\",\"Bolivia\",\"Bosnia and Herzegovina\",\"Botswana\",\"Brazil\",\"Brunei Darussalam\",\"Bulgaria\",\"Burkina Faso\",\"Burundi\",\"Cabo Verde\",\"Cambodia\",\"Cameroon\",\"Canada\",\"Central African Republic\",\"Chad\",\"Channel Islands\",\"Chile\",\"China\",\"Colombia\",\"Comoros\",\"Congo\",\"Congo, Dem. Rep.\",\"Congo, Rep.\",\"Cook Islands\",\"Costa Rica\",\"Cote d'Ivoire\",\"Croatia\",\"Cuba\",\"Curacao\",\"Cyprus\",\"Czech Republic\",\"C\\u00f4te d'Ivoire\",\"DR Congo\",\"Denmark\",\"Djibouti\",\"Dominican Republic\",\"Ecuador\",\"Egypt\",\"Egypt, Arab Rep.\",\"El Salvador\",\"Equatorial Guinea\",\"Eritrea\",\"Estonia\",\"Eswatini\",\"Ethiopia\",\"Faroe Islands\",\"Fiji\",\"Finland\",\"France\",\"French Polynesia\",\"Gabon\",\"Gambia\",\"Gambia, The\",\"Georgia\",\"Germany\",\"Ghana\",\"Greece\",\"Greenland\",\"Grenada\",\"Guam\",\"Guatemala\",\"Guinea\",\"Guinea-Bissau\",\"Guyana\",\"Haiti\",\"Honduras\",\"Hong Kong SAR, China\",\"Hungary\",\"Iceland\",\"India\",\"Indonesia\",\"Iran\",\"Iran, Islamic Rep.\",\"Iraq\",\"Ireland\",\"Israel\",\"Italy\",\"Jamaica\",\"Japan\",\"Jordan\",\"Kazakhstan\",\"Kenya\",\"Kiribati\",\"Korea, Dem. People's Rep.\",\"Korea, Rep.\",\"Kosovo\",\"Kuwait\",\"Kyrgyz Republic\",\"Kyrgyzstan\",\"Lao PDR\",\"Laos\",\"Latvia\",\"Lebanon\",\"Lesotho\",\"Liberia\",\"Libya\",\"Liechtenstein\",\"Lithuania\",\"Luxembourg\",\"Macao SAR, China\",\"Madagascar\",\"Malawi\",\"Malaysia\",\"Maldives\",\"Mali\",\"Malta\",\"Marshall Islands\",\"Mauritania\",\"Mauritius\",\"Mexico\",\"Micronesia\",\"Micronesia, Fed. Sts.\",\"Moldova\",\"Mongolia\",\"Montenegro\",\"Morocco\",\"Mozambique\",\"Myanmar\",\"Namibia\",\"Nauru\",\"Nepal\",\"Netherlands\",\"New Caledonia\",\"New Zealand\",\"Nicaragua\",\"Niger\",\"Nigeria\",\"Niue\",\"North Korea\",\"North Macedonia\",\"Norway\",\"Oman\",\"Pakistan\",\"Palau\",\"Panama\",\"Papua New Guinea\",\"Paraguay\",\"Peru\",\"Philippines\",\"Poland\",\"Portugal\",\"Puerto Rico\",\"Qatar\",\"Romania\",\"Russia\",\"Russian Federation\",\"Rwanda\",\"Saint Kitts & Nevis\",\"Saint Lucia\",\"Samoa\",\"San Marino\",\"Sao Tome & Principe\",\"Sao Tome and Principe\",\"Saudi Arabia\",\"Senegal\",\"Serbia\",\"Seychelles\",\"Sierra Leone\",\"Singapore\",\"Sint Maarten (Dutch part)\",\"Slovak Republic\",\"Slovenia\",\"Solomon Islands\",\"Somalia\",\"South Africa\",\"South Sudan\",\"Spain\",\"Sri Lanka\",\"St. Lucia\",\"St. Martin (French part)\",\"St. Vincent & Grenadines\",\"St. Vincent and the Grenadines\",\"State of Palestine\",\"Sudan\",\"Suriname\",\"Sweden\",\"Switzerland\",\"Syria\",\"Syrian Arab Republic\",\"Tajikistan\",\"Tanzania\",\"Thailand\",\"Timor-Leste\",\"Togo\",\"Tonga\",\"Trinidad and Tobago\",\"Tunisia\",\"Turkey\",\"Turkmenistan\",\"Tuvalu\",\"Uganda\",\"Ukraine\",\"United Arab Emirates\",\"United Kingdom\",\"United States\",\"Uruguay\",\"Uzbekistan\",\"Vanuatu\",\"Venezuela\",\"Venezuela, RB\",\"Vietnam\",\"Virgin Islands (U.S.)\",\"West Bank and Gaza\",\"Yemen, Rep.\",\"Zambia\",\"Zimbabwe\"],\"labels\":[\"Afghanistan\",\"Albania\",\"Algeria\",\"Angola\",\"Antigua and Barbuda\",\"Argentina\",\"Armenia\",\"Aruba\",\"Australia\",\"Austria\",\"Azerbaijan\",\"Bahamas\",\"Bahamas, The\",\"Bahrain\",\"Bangladesh\",\"Barbados\",\"Belarus\",\"Belgium\",\"Belize\",\"Benin\",\"Bermuda\",\"Bhutan\",\"Bolivia\",\"Bosnia and Herzegovina\",\"Botswana\",\"Brazil\",\"Brunei Darussalam\",\"Bulgaria\",\"Burkina Faso\",\"Burundi\",\"Cabo Verde\",\"Cambodia\",\"Cameroon\",\"Canada\",\"Central African Republic\",\"Chad\",\"Channel Islands\",\"Chile\",\"China\",\"Colombia\",\"Comoros\",\"Congo\",\"Congo, Dem. Rep.\",\"Congo, Rep.\",\"Cook Islands\",\"Costa Rica\",\"Cote d'Ivoire\",\"Croatia\",\"Cuba\",\"Curacao\",\"Cyprus\",\"Czech Republic\",\"C\\u00f4te d'Ivoire\",\"DR Congo\",\"Denmark\",\"Djibouti\",\"Dominican Republic\",\"Ecuador\",\"Egypt\",\"Egypt, Arab Rep.\",\"El Salvador\",\"Equatorial Guinea\",\"Eritrea\",\"Estonia\",\"Eswatini\",\"Ethiopia\",\"Faroe Islands\",\"Fiji\",\"Finland\",\"France\",\"French Polynesia\",\"Gabon\",\"Gambia\",\"Gambia, The\",\"Georgia\",\"Germany\",\"Ghana\",\"Greece\",\"Greenland\",\"Grenada\",\"Guam\",\"Guatemala\",\"Guinea\",\"Guinea-Bissau\",\"Guyana\",\"Haiti\",\"Honduras\",\"Hong Kong SAR, China\",\"Hungary\",\"Iceland\",\"India\",\"Indonesia\",\"Iran\",\"Iran, Islamic Rep.\",\"Iraq\",\"Ireland\",\"Israel\",\"Italy\",\"Jamaica\",\"Japan\",\"Jordan\",\"Kazakhstan\",\"Kenya\",\"Kiribati\",\"Korea, Dem. People's Rep.\",\"Korea, Rep.\",\"Kosovo\",\"Kuwait\",\"Kyrgyz Republic\",\"Kyrgyzstan\",\"Lao PDR\",\"Laos\",\"Latvia\",\"Lebanon\",\"Lesotho\",\"Liberia\",\"Libya\",\"Liechtenstein\",\"Lithuania\",\"Luxembourg\",\"Macao SAR, China\",\"Madagascar\",\"Malawi\",\"Malaysia\",\"Maldives\",\"Mali\",\"Malta\",\"Marshall Islands\",\"Mauritania\",\"Mauritius\",\"Mexico\",\"Micronesia\",\"Micronesia, Fed. Sts.\",\"Moldova\",\"Mongolia\",\"Montenegro\",\"Morocco\",\"Mozambique\",\"Myanmar\",\"Namibia\",\"Nauru\",\"Nepal\",\"Netherlands\",\"New Caledonia\",\"New Zealand\",\"Nicaragua\",\"Niger\",\"Nigeria\",\"Niue\",\"North Korea\",\"North Macedonia\",\"Norway\",\"Oman\",\"Pakistan\",\"Palau\",\"Panama\",\"Papua New Guinea\",\"Paraguay\",\"Peru\",\"Philippines\",\"Poland\",\"Portugal\",\"Puerto Rico\",\"Qatar\",\"Romania\",\"Russia\",\"Russian Federation\",\"Rwanda\",\"Saint Kitts & Nevis\",\"Saint Lucia\",\"Samoa\",\"San Marino\",\"Sao Tome & Principe\",\"Sao Tome and Principe\",\"Saudi Arabia\",\"Senegal\",\"Serbia\",\"Seychelles\",\"Sierra Leone\",\"Singapore\",\"Sint Maarten (Dutch part)\",\"Slovak Republic\",\"Slovenia\",\"Solomon Islands\",\"Somalia\",\"South Africa\",\"South Sudan\",\"Spain\",\"Sri Lanka\",\"St. Lucia\",\"St. Martin (French part)\",\"St. Vincent & Grenadines\",\"St. Vincent and the Grenadines\",\"State of Palestine\",\"Sudan\",\"Suriname\",\"Sweden\",\"Switzerland\",\"Syria\",\"Syrian Arab Republic\",\"Tajikistan\",\"Tanzania\",\"Thailand\",\"Timor-Leste\",\"Togo\",\"Tonga\",\"Trinidad and Tobago\",\"Tunisia\",\"Turkey\",\"Turkmenistan\",\"Tuvalu\",\"Uganda\",\"Ukraine\",\"United Arab Emirates\",\"United Kingdom\",\"United States\",\"Uruguay\",\"Uzbekistan\",\"Vanuatu\",\"Venezuela\",\"Venezuela, RB\",\"Vietnam\",\"Virgin Islands (U.S.)\",\"West Bank and Gaza\",\"Yemen, Rep.\",\"Zambia\",\"Zimbabwe\"],\"marker\":{\"coloraxis\":\"coloraxis\",\"colors\":[60.48411355571079,95.07835333763987,85.14198202441885,56.73061429054077,97.99344423000336,99.14222289898164,null,null,null,null,87.662144570511,98.47753557587654,null,null,87.57080048080573,99.70213136146151,99.70031715499618,null,99.54605812467935,80.72056057806519,null,null,90.68816033141718,99.89548341435477,96.57313851218751,98.1722926912243,null,99.37830694493516,84.66469820300391,79.40785906126963,92.16636360202666,77.25485997488481,78.58497951262689,99.8090914471919,70.69529441068275,57.733730170906085,null,99.0599910515693,95.60153489745451,91.96826886271066,91.14938920263431,79.31924596332026,null,null,99.8975176497381,97.90636966006677,null,99.58757859111235,94.90082474765632,null,null,null,84.06289964233444,59.47763011260553,null,90.74908906882591,85.49861678424692,87.96254321955824,99.45799752740048,null,93.95396846075633,56.60509556410083,60.22274287232114,99.6034028502829,75.35288114438993,62.54749721276966,null,95.83343094110626,null,null,null,94.04946862473234,91.54149432193417,null,null,null,89.87234551992827,null,null,96.68867698159487,null,93.46839017328394,79.80442091725334,81.72760074817035,98.34136840285194,60.3227108935843,91.90339404683095,null,null,null,94.3986415666353,88.09744818559815,96.4488638207,null,88.14921044302253,98.02136018045334,null,null,93.94687972681041,null,97.18455133491337,93.355528208434,67.23302335878235,69.26052122663229,null,null,null,99.10185312455876,null,90.86612218059086,null,77.48485339960085,99.25861441905887,99.0428902437863,82.50707550802917,78.42442020364669,null,null,96.33822860100453,null,null,57.55470961739291,91.42161987651615,98.31651419132776,98.82174254084774,80.19380733622168,null,94.7592498732894,63.36304734670808,99.9010039566965,96.31399168216008,89.52039845950367,null,88.2943646235724,67.43900021047558,99.70050918215601,86.28878564833478,57.6920334015508,81.21650695279159,91.80051989350251,96.64634146341463,92.21169662785299,null,null,null,87.78754011213434,65.46115603633449,72.32055410763432,98.5239852398524,99.70692602794479,99.40116368928479,null,94.48471456495932,92.23571129718667,null,95.1253451229232,45.62812170840271,98.12444041658102,87.70888649452348,92.35882402982018,98.29158018930679,null,null,null,null,96.92016749272013,null,79.02129195169508,98.36463091411493,96.39050902100455,99.02476639753243,null,97.36082022641097,null,97.26680781921667,81.28056220025326,99.18723835808278,95.84735680803685,66.37455539268417,null,null,null,99.50186104636119,83.14140378870377,null,93.64971136607467,60.4638580990689,null,95.7038140265403,null,null,95.17937623940868,null,63.06645569248056,60.51971458583337,95.04374122107215,null,null,89.81899423438821,null,76.77670955461228,61.733341851064324,97.83421278442236,74.50322159817058,67.35916066292341,99.61871422489239,95.20210248319385,97.82428894611121,null,null,97.8375169606513,82.45044102330323,96.09678673423979,99.62537417589296,null,99.2244696553805,99.70533115699837,null,95.1449641049016,92.70062463206773,null,97.71493479476416,null,null,null,70.11383567899291,78.52926517016436]},\"name\":\"\",\"parents\":[\"\",\"\",\"\",\"\",\"\",\"\",\"\",\"\",\"\",\"\",\"\",\"\",\"\",\"\",\"\",\"\",\"\",\"\",\"\",\"\",\"\",\"\",\"\",\"\",\"\",\"\",\"\",\"\",\"\",\"\",\"\",\"\",\"\",\"\",\"\",\"\",\"\",\"\",\"\",\"\",\"\",\"\",\"\",\"\",\"\",\"\",\"\",\"\",\"\",\"\",\"\",\"\",\"\",\"\",\"\",\"\",\"\",\"\",\"\",\"\",\"\",\"\",\"\",\"\",\"\",\"\",\"\",\"\",\"\",\"\",\"\",\"\",\"\",\"\",\"\",\"\",\"\",\"\",\"\",\"\",\"\",\"\",\"\",\"\",\"\",\"\",\"\",\"\",\"\",\"\",\"\",\"\",\"\",\"\",\"\",\"\",\"\",\"\",\"\",\"\",\"\",\"\",\"\",\"\",\"\",\"\",\"\",\"\",\"\",\"\",\"\",\"\",\"\",\"\",\"\",\"\",\"\",\"\",\"\",\"\",\"\",\"\",\"\",\"\",\"\",\"\",\"\",\"\",\"\",\"\",\"\",\"\",\"\",\"\",\"\",\"\",\"\",\"\",\"\",\"\",\"\",\"\",\"\",\"\",\"\",\"\",\"\",\"\",\"\",\"\",\"\",\"\",\"\",\"\",\"\",\"\",\"\",\"\",\"\",\"\",\"\",\"\",\"\",\"\",\"\",\"\",\"\",\"\",\"\",\"\",\"\",\"\",\"\",\"\",\"\",\"\",\"\",\"\",\"\",\"\",\"\",\"\",\"\",\"\",\"\",\"\",\"\",\"\",\"\",\"\",\"\",\"\",\"\",\"\",\"\",\"\",\"\",\"\",\"\",\"\",\"\",\"\",\"\",\"\",\"\",\"\",\"\",\"\",\"\",\"\",\"\",\"\",\"\",\"\",\"\",\"\",\"\",\"\",\"\",\"\",\"\",\"\",\"\",\"\",\"\",\"\",\"\"],\"values\":[60.48411355571079,95.07835333763987,85.14198202441885,56.73061429054077,97.99344423000336,99.14222289898166,0.0,0.0,0.0,0.0,87.662144570511,98.47753557587654,0.0,0.0,87.57080048080573,99.70213136146151,99.70031715499618,0.0,99.54605812467935,80.72056057806519,0.0,0.0,90.6881603314172,99.89548341435477,96.57313851218751,98.1722926912243,0.0,99.37830694493516,84.66469820300391,79.40785906126963,92.16636360202666,77.25485997488481,78.58497951262689,99.80909144719192,70.69529441068275,57.733730170906085,0.0,99.0599910515693,95.60153489745451,91.96826886271066,91.14938920263431,79.31924596332026,0.0,0.0,99.8975176497381,97.90636966006677,0.0,99.58757859111235,94.90082474765632,0.0,0.0,0.0,84.06289964233444,59.47763011260554,0.0,90.74908906882591,85.49861678424692,87.96254321955824,99.45799752740047,0.0,93.95396846075633,56.60509556410083,60.222742872321135,99.60340285028289,75.35288114438993,62.54749721276966,0.0,95.83343094110626,0.0,0.0,0.0,94.04946862473234,91.54149432193417,0.0,0.0,0.0,89.87234551992827,0.0,0.0,96.68867698159488,0.0,93.46839017328394,79.80442091725334,81.72760074817035,98.34136840285194,60.3227108935843,91.90339404683094,0.0,0.0,0.0,94.3986415666353,88.09744818559815,96.4488638207,0.0,88.14921044302253,98.02136018045334,0.0,0.0,93.94687972681041,0.0,97.18455133491337,93.355528208434,67.23302335878235,69.26052122663229,0.0,0.0,0.0,99.10185312455876,0.0,90.86612218059086,0.0,77.48485339960085,99.25861441905887,99.0428902437863,82.50707550802917,78.42442020364669,0.0,0.0,96.33822860100453,0.0,0.0,57.55470961739291,91.42161987651616,98.31651419132776,98.82174254084774,80.19380733622168,0.0,94.7592498732894,63.36304734670808,99.9010039566965,96.31399168216008,89.52039845950367,0.0,88.2943646235724,67.43900021047558,99.70050918215601,86.28878564833478,57.6920334015508,81.21650695279159,91.80051989350251,96.64634146341463,92.21169662785299,0.0,0.0,0.0,87.78754011213434,65.46115603633449,72.32055410763432,98.5239852398524,99.7069260279448,99.40116368928479,0.0,94.48471456495933,92.23571129718667,0.0,95.1253451229232,45.6281217084027,98.12444041658102,87.70888649452348,92.35882402982018,98.29158018930679,0.0,0.0,0.0,0.0,96.92016749272013,0.0,79.02129195169508,98.36463091411493,96.39050902100453,99.02476639753243,0.0,97.36082022641097,0.0,97.26680781921667,81.28056220025326,99.18723835808278,95.84735680803685,66.37455539268417,0.0,0.0,0.0,99.50186104636117,83.14140378870377,0.0,93.64971136607468,60.4638580990689,0.0,95.7038140265403,0.0,0.0,95.17937623940868,0.0,63.06645569248056,60.51971458583337,95.04374122107215,0.0,0.0,89.81899423438821,0.0,76.77670955461228,61.733341851064324,97.83421278442236,74.50322159817058,67.35916066292341,99.61871422489239,95.20210248319385,97.82428894611121,0.0,0.0,97.8375169606513,82.45044102330323,96.09678673423979,99.62537417589296,0.0,99.2244696553805,99.70533115699838,0.0,95.1449641049016,92.70062463206773,0.0,97.71493479476416,0.0,0.0,0.0,70.11383567899291,78.52926517016436],\"type\":\"sunburst\"}],                        {\"coloraxis\":{\"cmid\":null,\"colorbar\":{\"title\":{\"text\":\"Percentage_with\"}},\"colorscale\":[[0.0,\"rgb(103,0,31)\"],[0.1,\"rgb(178,24,43)\"],[0.2,\"rgb(214,96,77)\"],[0.3,\"rgb(244,165,130)\"],[0.4,\"rgb(253,219,199)\"],[0.5,\"rgb(247,247,247)\"],[0.6,\"rgb(209,229,240)\"],[0.7,\"rgb(146,197,222)\"],[0.8,\"rgb(67,147,195)\"],[0.9,\"rgb(33,102,172)\"],[1.0,\"rgb(5,48,97)\"]]},\"legend\":{\"tracegroupgap\":0},\"margin\":{\"t\":60},\"template\":{\"data\":{\"barpolar\":[{\"marker\":{\"line\":{\"color\":\"#E5ECF6\",\"width\":0.5},\"pattern\":{\"fillmode\":\"overlay\",\"size\":10,\"solidity\":0.2}},\"type\":\"barpolar\"}],\"bar\":[{\"error_x\":{\"color\":\"#2a3f5f\"},\"error_y\":{\"color\":\"#2a3f5f\"},\"marker\":{\"line\":{\"color\":\"#E5ECF6\",\"width\":0.5},\"pattern\":{\"fillmode\":\"overlay\",\"size\":10,\"solidity\":0.2}},\"type\":\"bar\"}],\"carpet\":[{\"aaxis\":{\"endlinecolor\":\"#2a3f5f\",\"gridcolor\":\"white\",\"linecolor\":\"white\",\"minorgridcolor\":\"white\",\"startlinecolor\":\"#2a3f5f\"},\"baxis\":{\"endlinecolor\":\"#2a3f5f\",\"gridcolor\":\"white\",\"linecolor\":\"white\",\"minorgridcolor\":\"white\",\"startlinecolor\":\"#2a3f5f\"},\"type\":\"carpet\"}],\"choropleth\":[{\"colorbar\":{\"outlinewidth\":0,\"ticks\":\"\"},\"type\":\"choropleth\"}],\"contourcarpet\":[{\"colorbar\":{\"outlinewidth\":0,\"ticks\":\"\"},\"type\":\"contourcarpet\"}],\"contour\":[{\"colorbar\":{\"outlinewidth\":0,\"ticks\":\"\"},\"colorscale\":[[0.0,\"#0d0887\"],[0.1111111111111111,\"#46039f\"],[0.2222222222222222,\"#7201a8\"],[0.3333333333333333,\"#9c179e\"],[0.4444444444444444,\"#bd3786\"],[0.5555555555555556,\"#d8576b\"],[0.6666666666666666,\"#ed7953\"],[0.7777777777777778,\"#fb9f3a\"],[0.8888888888888888,\"#fdca26\"],[1.0,\"#f0f921\"]],\"type\":\"contour\"}],\"heatmapgl\":[{\"colorbar\":{\"outlinewidth\":0,\"ticks\":\"\"},\"colorscale\":[[0.0,\"#0d0887\"],[0.1111111111111111,\"#46039f\"],[0.2222222222222222,\"#7201a8\"],[0.3333333333333333,\"#9c179e\"],[0.4444444444444444,\"#bd3786\"],[0.5555555555555556,\"#d8576b\"],[0.6666666666666666,\"#ed7953\"],[0.7777777777777778,\"#fb9f3a\"],[0.8888888888888888,\"#fdca26\"],[1.0,\"#f0f921\"]],\"type\":\"heatmapgl\"}],\"heatmap\":[{\"colorbar\":{\"outlinewidth\":0,\"ticks\":\"\"},\"colorscale\":[[0.0,\"#0d0887\"],[0.1111111111111111,\"#46039f\"],[0.2222222222222222,\"#7201a8\"],[0.3333333333333333,\"#9c179e\"],[0.4444444444444444,\"#bd3786\"],[0.5555555555555556,\"#d8576b\"],[0.6666666666666666,\"#ed7953\"],[0.7777777777777778,\"#fb9f3a\"],[0.8888888888888888,\"#fdca26\"],[1.0,\"#f0f921\"]],\"type\":\"heatmap\"}],\"histogram2dcontour\":[{\"colorbar\":{\"outlinewidth\":0,\"ticks\":\"\"},\"colorscale\":[[0.0,\"#0d0887\"],[0.1111111111111111,\"#46039f\"],[0.2222222222222222,\"#7201a8\"],[0.3333333333333333,\"#9c179e\"],[0.4444444444444444,\"#bd3786\"],[0.5555555555555556,\"#d8576b\"],[0.6666666666666666,\"#ed7953\"],[0.7777777777777778,\"#fb9f3a\"],[0.8888888888888888,\"#fdca26\"],[1.0,\"#f0f921\"]],\"type\":\"histogram2dcontour\"}],\"histogram2d\":[{\"colorbar\":{\"outlinewidth\":0,\"ticks\":\"\"},\"colorscale\":[[0.0,\"#0d0887\"],[0.1111111111111111,\"#46039f\"],[0.2222222222222222,\"#7201a8\"],[0.3333333333333333,\"#9c179e\"],[0.4444444444444444,\"#bd3786\"],[0.5555555555555556,\"#d8576b\"],[0.6666666666666666,\"#ed7953\"],[0.7777777777777778,\"#fb9f3a\"],[0.8888888888888888,\"#fdca26\"],[1.0,\"#f0f921\"]],\"type\":\"histogram2d\"}],\"histogram\":[{\"marker\":{\"pattern\":{\"fillmode\":\"overlay\",\"size\":10,\"solidity\":0.2}},\"type\":\"histogram\"}],\"mesh3d\":[{\"colorbar\":{\"outlinewidth\":0,\"ticks\":\"\"},\"type\":\"mesh3d\"}],\"parcoords\":[{\"line\":{\"colorbar\":{\"outlinewidth\":0,\"ticks\":\"\"}},\"type\":\"parcoords\"}],\"pie\":[{\"automargin\":true,\"type\":\"pie\"}],\"scatter3d\":[{\"line\":{\"colorbar\":{\"outlinewidth\":0,\"ticks\":\"\"}},\"marker\":{\"colorbar\":{\"outlinewidth\":0,\"ticks\":\"\"}},\"type\":\"scatter3d\"}],\"scattercarpet\":[{\"marker\":{\"colorbar\":{\"outlinewidth\":0,\"ticks\":\"\"}},\"type\":\"scattercarpet\"}],\"scattergeo\":[{\"marker\":{\"colorbar\":{\"outlinewidth\":0,\"ticks\":\"\"}},\"type\":\"scattergeo\"}],\"scattergl\":[{\"marker\":{\"colorbar\":{\"outlinewidth\":0,\"ticks\":\"\"}},\"type\":\"scattergl\"}],\"scattermapbox\":[{\"marker\":{\"colorbar\":{\"outlinewidth\":0,\"ticks\":\"\"}},\"type\":\"scattermapbox\"}],\"scatterpolargl\":[{\"marker\":{\"colorbar\":{\"outlinewidth\":0,\"ticks\":\"\"}},\"type\":\"scatterpolargl\"}],\"scatterpolar\":[{\"marker\":{\"colorbar\":{\"outlinewidth\":0,\"ticks\":\"\"}},\"type\":\"scatterpolar\"}],\"scatter\":[{\"marker\":{\"colorbar\":{\"outlinewidth\":0,\"ticks\":\"\"}},\"type\":\"scatter\"}],\"scatterternary\":[{\"marker\":{\"colorbar\":{\"outlinewidth\":0,\"ticks\":\"\"}},\"type\":\"scatterternary\"}],\"surface\":[{\"colorbar\":{\"outlinewidth\":0,\"ticks\":\"\"},\"colorscale\":[[0.0,\"#0d0887\"],[0.1111111111111111,\"#46039f\"],[0.2222222222222222,\"#7201a8\"],[0.3333333333333333,\"#9c179e\"],[0.4444444444444444,\"#bd3786\"],[0.5555555555555556,\"#d8576b\"],[0.6666666666666666,\"#ed7953\"],[0.7777777777777778,\"#fb9f3a\"],[0.8888888888888888,\"#fdca26\"],[1.0,\"#f0f921\"]],\"type\":\"surface\"}],\"table\":[{\"cells\":{\"fill\":{\"color\":\"#EBF0F8\"},\"line\":{\"color\":\"white\"}},\"header\":{\"fill\":{\"color\":\"#C8D4E3\"},\"line\":{\"color\":\"white\"}},\"type\":\"table\"}]},\"layout\":{\"annotationdefaults\":{\"arrowcolor\":\"#2a3f5f\",\"arrowhead\":0,\"arrowwidth\":1},\"autotypenumbers\":\"strict\",\"coloraxis\":{\"colorbar\":{\"outlinewidth\":0,\"ticks\":\"\"}},\"colorscale\":{\"diverging\":[[0,\"#8e0152\"],[0.1,\"#c51b7d\"],[0.2,\"#de77ae\"],[0.3,\"#f1b6da\"],[0.4,\"#fde0ef\"],[0.5,\"#f7f7f7\"],[0.6,\"#e6f5d0\"],[0.7,\"#b8e186\"],[0.8,\"#7fbc41\"],[0.9,\"#4d9221\"],[1,\"#276419\"]],\"sequential\":[[0.0,\"#0d0887\"],[0.1111111111111111,\"#46039f\"],[0.2222222222222222,\"#7201a8\"],[0.3333333333333333,\"#9c179e\"],[0.4444444444444444,\"#bd3786\"],[0.5555555555555556,\"#d8576b\"],[0.6666666666666666,\"#ed7953\"],[0.7777777777777778,\"#fb9f3a\"],[0.8888888888888888,\"#fdca26\"],[1.0,\"#f0f921\"]],\"sequentialminus\":[[0.0,\"#0d0887\"],[0.1111111111111111,\"#46039f\"],[0.2222222222222222,\"#7201a8\"],[0.3333333333333333,\"#9c179e\"],[0.4444444444444444,\"#bd3786\"],[0.5555555555555556,\"#d8576b\"],[0.6666666666666666,\"#ed7953\"],[0.7777777777777778,\"#fb9f3a\"],[0.8888888888888888,\"#fdca26\"],[1.0,\"#f0f921\"]]},\"colorway\":[\"#636efa\",\"#EF553B\",\"#00cc96\",\"#ab63fa\",\"#FFA15A\",\"#19d3f3\",\"#FF6692\",\"#B6E880\",\"#FF97FF\",\"#FECB52\"],\"font\":{\"color\":\"#2a3f5f\"},\"geo\":{\"bgcolor\":\"white\",\"lakecolor\":\"white\",\"landcolor\":\"#E5ECF6\",\"showlakes\":true,\"showland\":true,\"subunitcolor\":\"white\"},\"hoverlabel\":{\"align\":\"left\"},\"hovermode\":\"closest\",\"mapbox\":{\"style\":\"light\"},\"paper_bgcolor\":\"white\",\"plot_bgcolor\":\"#E5ECF6\",\"polar\":{\"angularaxis\":{\"gridcolor\":\"white\",\"linecolor\":\"white\",\"ticks\":\"\"},\"bgcolor\":\"#E5ECF6\",\"radialaxis\":{\"gridcolor\":\"white\",\"linecolor\":\"white\",\"ticks\":\"\"}},\"scene\":{\"xaxis\":{\"backgroundcolor\":\"#E5ECF6\",\"gridcolor\":\"white\",\"gridwidth\":2,\"linecolor\":\"white\",\"showbackground\":true,\"ticks\":\"\",\"zerolinecolor\":\"white\"},\"yaxis\":{\"backgroundcolor\":\"#E5ECF6\",\"gridcolor\":\"white\",\"gridwidth\":2,\"linecolor\":\"white\",\"showbackground\":true,\"ticks\":\"\",\"zerolinecolor\":\"white\"},\"zaxis\":{\"backgroundcolor\":\"#E5ECF6\",\"gridcolor\":\"white\",\"gridwidth\":2,\"linecolor\":\"white\",\"showbackground\":true,\"ticks\":\"\",\"zerolinecolor\":\"white\"}},\"shapedefaults\":{\"line\":{\"color\":\"#2a3f5f\"}},\"ternary\":{\"aaxis\":{\"gridcolor\":\"white\",\"linecolor\":\"white\",\"ticks\":\"\"},\"baxis\":{\"gridcolor\":\"white\",\"linecolor\":\"white\",\"ticks\":\"\"},\"bgcolor\":\"#E5ECF6\",\"caxis\":{\"gridcolor\":\"white\",\"linecolor\":\"white\",\"ticks\":\"\"}},\"title\":{\"x\":0.05},\"xaxis\":{\"automargin\":true,\"gridcolor\":\"white\",\"linecolor\":\"white\",\"ticks\":\"\",\"title\":{\"standoff\":15},\"zerolinecolor\":\"white\",\"zerolinewidth\":2},\"yaxis\":{\"automargin\":true,\"gridcolor\":\"white\",\"linecolor\":\"white\",\"ticks\":\"\",\"title\":{\"standoff\":15},\"zerolinecolor\":\"white\",\"zerolinewidth\":2}}}},                        {\"responsive\": true}                    ).then(function(){\n",
       "                            \n",
       "var gd = document.getElementById('15be87e6-1bbe-4cf7-a2c4-cbaae70f1af1');\n",
       "var x = new MutationObserver(function (mutations, observer) {{\n",
       "        var display = window.getComputedStyle(gd).display;\n",
       "        if (!display || display === 'none') {{\n",
       "            console.log([gd, 'removed!']);\n",
       "            Plotly.purge(gd);\n",
       "            observer.disconnect();\n",
       "        }}\n",
       "}});\n",
       "\n",
       "// Listen for the removal of the full notebook cells\n",
       "var notebookContainer = gd.closest('#notebook-container');\n",
       "if (notebookContainer) {{\n",
       "    x.observe(notebookContainer, {childList: true});\n",
       "}}\n",
       "\n",
       "// Listen for the clearing of the current output cell\n",
       "var outputEl = gd.closest('.output');\n",
       "if (outputEl) {{\n",
       "    x.observe(outputEl, {childList: true});\n",
       "}}\n",
       "\n",
       "                        }).then(function(){\n",
       "                            function downloadimage(format, height, width, filename) {var p = document.getElementById('15be87e6-1bbe-4cf7-a2c4-cbaae70f1af1');Plotly.downloadImage(p, {format: format, height: height, width: width, filename: filename});};if(document.readyState == 'complete') {downloadimage('svg', 1280, 1280, 'water');}\n",
       "                        })                };                });            </script>        </div>"
      ]
     },
     "metadata": {},
     "output_type": "display_data"
    }
   ],
   "source": [
    "fig = px.sunburst(df1, path=['Country'], values='Percentage_with',\n",
    "                  color='Percentage_with',\n",
    "                  color_continuous_scale='RdBu',\n",
    "                  color_continuous_midpoint=np.average(df1['Percentage_with'], weights=df1['Percentage_with']))\n",
    "iplot(fig, image='svg', filename='water', image_width=1280, image_height=1280)"
   ]
  },
  {
   "cell_type": "code",
   "execution_count": 38,
   "id": "64cb4be5",
   "metadata": {},
   "outputs": [
    {
     "data": {
      "application/vnd.plotly.v1+json": {
       "config": {
        "linkText": "Export to plot.ly",
        "plotlyServerURL": "https://plot.ly",
        "showLink": false
       },
       "data": [
        {
         "branchvalues": "total",
         "customdata": [
          [
           39.51588644428921
          ],
          [
           4.921646662360132
          ],
          [
           14.85801797558115
          ],
          [
           43.26938570945923
          ],
          [
           2.00655576999663
          ],
          [
           0.8577771010183385
          ],
          [
           null
          ],
          [
           null
          ],
          [
           null
          ],
          [
           null
          ],
          [
           12.337855429489
          ],
          [
           1.522464424123445
          ],
          [
           null
          ],
          [
           null
          ],
          [
           12.429199519194263
          ],
          [
           0.297868638538495
          ],
          [
           0.2996828450038167
          ],
          [
           null
          ],
          [
           0.45394187532065144
          ],
          [
           19.279439421934804
          ],
          [
           null
          ],
          [
           null
          ],
          [
           9.311839668582794
          ],
          [
           0.10451658564523067
          ],
          [
           3.426861487812481
          ],
          [
           1.8277073087756919
          ],
          [
           null
          ],
          [
           0.6216930550648383
          ],
          [
           15.335301796996099
          ],
          [
           20.592140938730363
          ],
          [
           7.8336363979733346
          ],
          [
           22.745140025115187
          ],
          [
           21.41502048737312
          ],
          [
           0.19090855280808827
          ],
          [
           29.304705589317248
          ],
          [
           42.26626982909392
          ],
          [
           null
          ],
          [
           0.9400089484307055
          ],
          [
           4.398465102545488
          ],
          [
           8.03173113728935
          ],
          [
           8.850610797365688
          ],
          [
           20.68075403667974
          ],
          [
           null
          ],
          [
           null
          ],
          [
           0.10248235026189935
          ],
          [
           2.0936303399332328
          ],
          [
           null
          ],
          [
           0.4124214088876558
          ],
          [
           5.099175252343683
          ],
          [
           null
          ],
          [
           null
          ],
          [
           null
          ],
          [
           15.937100357665553
          ],
          [
           40.52236988739446
          ],
          [
           null
          ],
          [
           9.250910931174088
          ],
          [
           14.50138321575308
          ],
          [
           12.037456780441753
          ],
          [
           0.5420024725995375
          ],
          [
           null
          ],
          [
           6.046031539243671
          ],
          [
           43.39490443589917
          ],
          [
           39.77725712767886
          ],
          [
           0.3965971497171201
          ],
          [
           24.647118855610067
          ],
          [
           37.45250278723034
          ],
          [
           null
          ],
          [
           4.166569058893741
          ],
          [
           null
          ],
          [
           null
          ],
          [
           null
          ],
          [
           5.950531375267665
          ],
          [
           8.458505678065832
          ],
          [
           null
          ],
          [
           null
          ],
          [
           null
          ],
          [
           10.127654480071728
          ],
          [
           null
          ],
          [
           null
          ],
          [
           3.3113230184051266
          ],
          [
           null
          ],
          [
           6.531609826716071
          ],
          [
           20.195579082746665
          ],
          [
           18.27239925182965
          ],
          [
           1.6586315971480587
          ],
          [
           39.6772891064157
          ],
          [
           8.096605953169066
          ],
          [
           null
          ],
          [
           null
          ],
          [
           null
          ],
          [
           5.6013584333646875
          ],
          [
           11.90255181440184
          ],
          [
           3.5511361793000034
          ],
          [
           null
          ],
          [
           11.850789556977485
          ],
          [
           1.978639819546655
          ],
          [
           null
          ],
          [
           null
          ],
          [
           6.053120273189591
          ],
          [
           null
          ],
          [
           2.8154486650866293
          ],
          [
           6.644471791566008
          ],
          [
           32.766976641217646
          ],
          [
           30.73947877336771
          ],
          [
           null
          ],
          [
           null
          ],
          [
           null
          ],
          [
           0.8981468754412466
          ],
          [
           null
          ],
          [
           9.133877819409138
          ],
          [
           null
          ],
          [
           22.515146600399145
          ],
          [
           0.7413855809411314
          ],
          [
           0.9571097562136974
          ],
          [
           17.492924491970822
          ],
          [
           21.57557979635331
          ],
          [
           null
          ],
          [
           null
          ],
          [
           3.6617713989954774
          ],
          [
           null
          ],
          [
           null
          ],
          [
           42.4452903826071
          ],
          [
           8.578380123483843
          ],
          [
           1.6834858086722428
          ],
          [
           1.1782574591522614
          ],
          [
           19.806192663778326
          ],
          [
           null
          ],
          [
           5.240750126710593
          ],
          [
           36.63695265329192
          ],
          [
           0.09899604330349561
          ],
          [
           3.686008317839921
          ],
          [
           10.479601540496326
          ],
          [
           null
          ],
          [
           11.705635376427598
          ],
          [
           32.560999789524416
          ],
          [
           0.29949081784398457
          ],
          [
           13.711214351665216
          ],
          [
           42.3079665984492
          ],
          [
           18.783493047208406
          ],
          [
           8.199480106497488
          ],
          [
           3.3536585365853666
          ],
          [
           7.788303372147011
          ],
          [
           null
          ],
          [
           null
          ],
          [
           null
          ],
          [
           12.212459887865656
          ],
          [
           34.538843963665514
          ],
          [
           27.679445892365685
          ],
          [
           1.4760147601476017
          ],
          [
           0.2930739720551945
          ],
          [
           0.5988363107152148
          ],
          [
           null
          ],
          [
           5.515285435040671
          ],
          [
           7.764288702813325
          ],
          [
           null
          ],
          [
           4.874654877076792
          ],
          [
           54.3718782915973
          ],
          [
           1.8755595834189738
          ],
          [
           12.291113505476519
          ],
          [
           7.641175970179816
          ],
          [
           1.7084198106932216
          ],
          [
           null
          ],
          [
           null
          ],
          [
           null
          ],
          [
           null
          ],
          [
           3.079832507279878
          ],
          [
           null
          ],
          [
           20.97870804830493
          ],
          [
           1.6353690858850731
          ],
          [
           3.609490978995464
          ],
          [
           0.9752336024675679
          ],
          [
           null
          ],
          [
           2.639179773589038
          ],
          [
           null
          ],
          [
           2.7331921807833433
          ],
          [
           18.71943779974674
          ],
          [
           0.8127616419172312
          ],
          [
           4.152643191963151
          ],
          [
           33.62544460731583
          ],
          [
           null
          ],
          [
           null
          ],
          [
           null
          ],
          [
           0.4981389536388291
          ],
          [
           16.85859621129623
          ],
          [
           null
          ],
          [
           6.350288633925316
          ],
          [
           39.536141900931106
          ],
          [
           null
          ],
          [
           4.2961859734597025
          ],
          [
           null
          ],
          [
           null
          ],
          [
           4.82062376059131
          ],
          [
           null
          ],
          [
           36.93354430751945
          ],
          [
           39.48028541416663
          ],
          [
           4.956258778927846
          ],
          [
           null
          ],
          [
           null
          ],
          [
           10.181005765611784
          ],
          [
           null
          ],
          [
           23.223290445387722
          ],
          [
           38.266658148935676
          ],
          [
           2.1657872155776325
          ],
          [
           25.49677840182943
          ],
          [
           32.640839337076585
          ],
          [
           0.38128577510762096
          ],
          [
           4.797897516806146
          ],
          [
           2.1757110538887834
          ],
          [
           null
          ],
          [
           null
          ],
          [
           2.162483039348711
          ],
          [
           17.549558976696776
          ],
          [
           3.903213265760215
          ],
          [
           0.3746258241070484
          ],
          [
           null
          ],
          [
           0.7755303446195059
          ],
          [
           0.29466884300161494
          ],
          [
           null
          ],
          [
           4.855035895098406
          ],
          [
           7.299375367932272
          ],
          [
           null
          ],
          [
           2.28506520523584
          ],
          [
           null
          ],
          [
           null
          ],
          [
           null
          ],
          [
           29.8861643210071
          ],
          [
           21.470734829835635
          ]
         ],
         "domain": {
          "x": [
           0,
           1
          ],
          "y": [
           0,
           1
          ]
         },
         "hovertemplate": "labels=%{label}<br>Percentage_without_sum=%{value}<br>parent=%{parent}<br>id=%{id}<br>Percentage_without=%{color}<extra></extra>",
         "ids": [
          "Afghanistan",
          "Albania",
          "Algeria",
          "Angola",
          "Antigua and Barbuda",
          "Argentina",
          "Armenia",
          "Aruba",
          "Australia",
          "Austria",
          "Azerbaijan",
          "Bahamas",
          "Bahamas, The",
          "Bahrain",
          "Bangladesh",
          "Barbados",
          "Belarus",
          "Belgium",
          "Belize",
          "Benin",
          "Bermuda",
          "Bhutan",
          "Bolivia",
          "Bosnia and Herzegovina",
          "Botswana",
          "Brazil",
          "Brunei Darussalam",
          "Bulgaria",
          "Burkina Faso",
          "Burundi",
          "Cabo Verde",
          "Cambodia",
          "Cameroon",
          "Canada",
          "Central African Republic",
          "Chad",
          "Channel Islands",
          "Chile",
          "China",
          "Colombia",
          "Comoros",
          "Congo",
          "Congo, Dem. Rep.",
          "Congo, Rep.",
          "Cook Islands",
          "Costa Rica",
          "Cote d'Ivoire",
          "Croatia",
          "Cuba",
          "Curacao",
          "Cyprus",
          "Czech Republic",
          "Côte d'Ivoire",
          "DR Congo",
          "Denmark",
          "Djibouti",
          "Dominican Republic",
          "Ecuador",
          "Egypt",
          "Egypt, Arab Rep.",
          "El Salvador",
          "Equatorial Guinea",
          "Eritrea",
          "Estonia",
          "Eswatini",
          "Ethiopia",
          "Faroe Islands",
          "Fiji",
          "Finland",
          "France",
          "French Polynesia",
          "Gabon",
          "Gambia",
          "Gambia, The",
          "Georgia",
          "Germany",
          "Ghana",
          "Greece",
          "Greenland",
          "Grenada",
          "Guam",
          "Guatemala",
          "Guinea",
          "Guinea-Bissau",
          "Guyana",
          "Haiti",
          "Honduras",
          "Hong Kong SAR, China",
          "Hungary",
          "Iceland",
          "India",
          "Indonesia",
          "Iran",
          "Iran, Islamic Rep.",
          "Iraq",
          "Ireland",
          "Israel",
          "Italy",
          "Jamaica",
          "Japan",
          "Jordan",
          "Kazakhstan",
          "Kenya",
          "Kiribati",
          "Korea, Dem. People's Rep.",
          "Korea, Rep.",
          "Kosovo",
          "Kuwait",
          "Kyrgyz Republic",
          "Kyrgyzstan",
          "Lao PDR",
          "Laos",
          "Latvia",
          "Lebanon",
          "Lesotho",
          "Liberia",
          "Libya",
          "Liechtenstein",
          "Lithuania",
          "Luxembourg",
          "Macao SAR, China",
          "Madagascar",
          "Malawi",
          "Malaysia",
          "Maldives",
          "Mali",
          "Malta",
          "Marshall Islands",
          "Mauritania",
          "Mauritius",
          "Mexico",
          "Micronesia",
          "Micronesia, Fed. Sts.",
          "Moldova",
          "Mongolia",
          "Montenegro",
          "Morocco",
          "Mozambique",
          "Myanmar",
          "Namibia",
          "Nauru",
          "Nepal",
          "Netherlands",
          "New Caledonia",
          "New Zealand",
          "Nicaragua",
          "Niger",
          "Nigeria",
          "Niue",
          "North Korea",
          "North Macedonia",
          "Norway",
          "Oman",
          "Pakistan",
          "Palau",
          "Panama",
          "Papua New Guinea",
          "Paraguay",
          "Peru",
          "Philippines",
          "Poland",
          "Portugal",
          "Puerto Rico",
          "Qatar",
          "Romania",
          "Russia",
          "Russian Federation",
          "Rwanda",
          "Saint Kitts & Nevis",
          "Saint Lucia",
          "Samoa",
          "San Marino",
          "Sao Tome & Principe",
          "Sao Tome and Principe",
          "Saudi Arabia",
          "Senegal",
          "Serbia",
          "Seychelles",
          "Sierra Leone",
          "Singapore",
          "Sint Maarten (Dutch part)",
          "Slovak Republic",
          "Slovenia",
          "Solomon Islands",
          "Somalia",
          "South Africa",
          "South Sudan",
          "Spain",
          "Sri Lanka",
          "St. Lucia",
          "St. Martin (French part)",
          "St. Vincent & Grenadines",
          "St. Vincent and the Grenadines",
          "State of Palestine",
          "Sudan",
          "Suriname",
          "Sweden",
          "Switzerland",
          "Syria",
          "Syrian Arab Republic",
          "Tajikistan",
          "Tanzania",
          "Thailand",
          "Timor-Leste",
          "Togo",
          "Tonga",
          "Trinidad and Tobago",
          "Tunisia",
          "Turkey",
          "Turkmenistan",
          "Tuvalu",
          "Uganda",
          "Ukraine",
          "United Arab Emirates",
          "United Kingdom",
          "United States",
          "Uruguay",
          "Uzbekistan",
          "Vanuatu",
          "Venezuela",
          "Venezuela, RB",
          "Vietnam",
          "Virgin Islands (U.S.)",
          "West Bank and Gaza",
          "Yemen, Rep.",
          "Zambia",
          "Zimbabwe"
         ],
         "labels": [
          "Afghanistan",
          "Albania",
          "Algeria",
          "Angola",
          "Antigua and Barbuda",
          "Argentina",
          "Armenia",
          "Aruba",
          "Australia",
          "Austria",
          "Azerbaijan",
          "Bahamas",
          "Bahamas, The",
          "Bahrain",
          "Bangladesh",
          "Barbados",
          "Belarus",
          "Belgium",
          "Belize",
          "Benin",
          "Bermuda",
          "Bhutan",
          "Bolivia",
          "Bosnia and Herzegovina",
          "Botswana",
          "Brazil",
          "Brunei Darussalam",
          "Bulgaria",
          "Burkina Faso",
          "Burundi",
          "Cabo Verde",
          "Cambodia",
          "Cameroon",
          "Canada",
          "Central African Republic",
          "Chad",
          "Channel Islands",
          "Chile",
          "China",
          "Colombia",
          "Comoros",
          "Congo",
          "Congo, Dem. Rep.",
          "Congo, Rep.",
          "Cook Islands",
          "Costa Rica",
          "Cote d'Ivoire",
          "Croatia",
          "Cuba",
          "Curacao",
          "Cyprus",
          "Czech Republic",
          "Côte d'Ivoire",
          "DR Congo",
          "Denmark",
          "Djibouti",
          "Dominican Republic",
          "Ecuador",
          "Egypt",
          "Egypt, Arab Rep.",
          "El Salvador",
          "Equatorial Guinea",
          "Eritrea",
          "Estonia",
          "Eswatini",
          "Ethiopia",
          "Faroe Islands",
          "Fiji",
          "Finland",
          "France",
          "French Polynesia",
          "Gabon",
          "Gambia",
          "Gambia, The",
          "Georgia",
          "Germany",
          "Ghana",
          "Greece",
          "Greenland",
          "Grenada",
          "Guam",
          "Guatemala",
          "Guinea",
          "Guinea-Bissau",
          "Guyana",
          "Haiti",
          "Honduras",
          "Hong Kong SAR, China",
          "Hungary",
          "Iceland",
          "India",
          "Indonesia",
          "Iran",
          "Iran, Islamic Rep.",
          "Iraq",
          "Ireland",
          "Israel",
          "Italy",
          "Jamaica",
          "Japan",
          "Jordan",
          "Kazakhstan",
          "Kenya",
          "Kiribati",
          "Korea, Dem. People's Rep.",
          "Korea, Rep.",
          "Kosovo",
          "Kuwait",
          "Kyrgyz Republic",
          "Kyrgyzstan",
          "Lao PDR",
          "Laos",
          "Latvia",
          "Lebanon",
          "Lesotho",
          "Liberia",
          "Libya",
          "Liechtenstein",
          "Lithuania",
          "Luxembourg",
          "Macao SAR, China",
          "Madagascar",
          "Malawi",
          "Malaysia",
          "Maldives",
          "Mali",
          "Malta",
          "Marshall Islands",
          "Mauritania",
          "Mauritius",
          "Mexico",
          "Micronesia",
          "Micronesia, Fed. Sts.",
          "Moldova",
          "Mongolia",
          "Montenegro",
          "Morocco",
          "Mozambique",
          "Myanmar",
          "Namibia",
          "Nauru",
          "Nepal",
          "Netherlands",
          "New Caledonia",
          "New Zealand",
          "Nicaragua",
          "Niger",
          "Nigeria",
          "Niue",
          "North Korea",
          "North Macedonia",
          "Norway",
          "Oman",
          "Pakistan",
          "Palau",
          "Panama",
          "Papua New Guinea",
          "Paraguay",
          "Peru",
          "Philippines",
          "Poland",
          "Portugal",
          "Puerto Rico",
          "Qatar",
          "Romania",
          "Russia",
          "Russian Federation",
          "Rwanda",
          "Saint Kitts & Nevis",
          "Saint Lucia",
          "Samoa",
          "San Marino",
          "Sao Tome & Principe",
          "Sao Tome and Principe",
          "Saudi Arabia",
          "Senegal",
          "Serbia",
          "Seychelles",
          "Sierra Leone",
          "Singapore",
          "Sint Maarten (Dutch part)",
          "Slovak Republic",
          "Slovenia",
          "Solomon Islands",
          "Somalia",
          "South Africa",
          "South Sudan",
          "Spain",
          "Sri Lanka",
          "St. Lucia",
          "St. Martin (French part)",
          "St. Vincent & Grenadines",
          "St. Vincent and the Grenadines",
          "State of Palestine",
          "Sudan",
          "Suriname",
          "Sweden",
          "Switzerland",
          "Syria",
          "Syrian Arab Republic",
          "Tajikistan",
          "Tanzania",
          "Thailand",
          "Timor-Leste",
          "Togo",
          "Tonga",
          "Trinidad and Tobago",
          "Tunisia",
          "Turkey",
          "Turkmenistan",
          "Tuvalu",
          "Uganda",
          "Ukraine",
          "United Arab Emirates",
          "United Kingdom",
          "United States",
          "Uruguay",
          "Uzbekistan",
          "Vanuatu",
          "Venezuela",
          "Venezuela, RB",
          "Vietnam",
          "Virgin Islands (U.S.)",
          "West Bank and Gaza",
          "Yemen, Rep.",
          "Zambia",
          "Zimbabwe"
         ],
         "marker": {
          "coloraxis": "coloraxis",
          "colors": [
           39.51588644428921,
           4.921646662360132,
           14.85801797558115,
           43.26938570945923,
           2.00655576999663,
           0.8577771010183385,
           null,
           null,
           null,
           null,
           12.337855429489,
           1.522464424123445,
           null,
           null,
           12.429199519194263,
           0.297868638538495,
           0.2996828450038167,
           null,
           0.45394187532065144,
           19.279439421934804,
           null,
           null,
           9.311839668582794,
           0.10451658564523067,
           3.426861487812481,
           1.8277073087756919,
           null,
           0.6216930550648383,
           15.335301796996099,
           20.592140938730363,
           7.8336363979733346,
           22.745140025115187,
           21.41502048737312,
           0.19090855280808827,
           29.304705589317248,
           42.26626982909392,
           null,
           0.9400089484307055,
           4.398465102545488,
           8.03173113728935,
           8.850610797365688,
           20.68075403667974,
           null,
           null,
           0.10248235026189935,
           2.0936303399332328,
           null,
           0.4124214088876558,
           5.099175252343683,
           null,
           null,
           null,
           15.937100357665553,
           40.52236988739446,
           null,
           9.250910931174088,
           14.50138321575308,
           12.037456780441753,
           0.5420024725995375,
           null,
           6.046031539243671,
           43.39490443589917,
           39.77725712767886,
           0.3965971497171201,
           24.647118855610067,
           37.45250278723034,
           null,
           4.166569058893741,
           null,
           null,
           null,
           5.950531375267665,
           8.458505678065832,
           null,
           null,
           null,
           10.127654480071728,
           null,
           null,
           3.3113230184051266,
           null,
           6.531609826716071,
           20.195579082746665,
           18.27239925182965,
           1.6586315971480587,
           39.6772891064157,
           8.096605953169066,
           null,
           null,
           null,
           5.6013584333646875,
           11.90255181440184,
           3.5511361793000034,
           null,
           11.850789556977485,
           1.978639819546655,
           null,
           null,
           6.053120273189591,
           null,
           2.8154486650866293,
           6.644471791566008,
           32.766976641217646,
           30.73947877336771,
           null,
           null,
           null,
           0.8981468754412466,
           null,
           9.133877819409138,
           null,
           22.515146600399145,
           0.7413855809411314,
           0.9571097562136974,
           17.492924491970822,
           21.57557979635331,
           null,
           null,
           3.6617713989954774,
           null,
           null,
           42.4452903826071,
           8.578380123483843,
           1.6834858086722428,
           1.1782574591522614,
           19.806192663778326,
           null,
           5.240750126710593,
           36.63695265329192,
           0.09899604330349561,
           3.686008317839921,
           10.479601540496326,
           null,
           11.705635376427598,
           32.560999789524416,
           0.29949081784398457,
           13.711214351665216,
           42.3079665984492,
           18.783493047208406,
           8.199480106497488,
           3.3536585365853666,
           7.788303372147011,
           null,
           null,
           null,
           12.212459887865656,
           34.538843963665514,
           27.679445892365685,
           1.4760147601476017,
           0.2930739720551945,
           0.5988363107152148,
           null,
           5.515285435040671,
           7.764288702813325,
           null,
           4.874654877076792,
           54.3718782915973,
           1.8755595834189738,
           12.291113505476519,
           7.641175970179816,
           1.7084198106932216,
           null,
           null,
           null,
           null,
           3.079832507279878,
           null,
           20.97870804830493,
           1.6353690858850731,
           3.609490978995464,
           0.9752336024675679,
           null,
           2.639179773589038,
           null,
           2.7331921807833433,
           18.71943779974674,
           0.8127616419172312,
           4.152643191963151,
           33.62544460731583,
           null,
           null,
           null,
           0.4981389536388291,
           16.85859621129623,
           null,
           6.350288633925316,
           39.536141900931106,
           null,
           4.2961859734597025,
           null,
           null,
           4.82062376059131,
           null,
           36.93354430751945,
           39.48028541416663,
           4.956258778927846,
           null,
           null,
           10.181005765611784,
           null,
           23.223290445387722,
           38.266658148935676,
           2.1657872155776325,
           25.49677840182943,
           32.640839337076585,
           0.38128577510762096,
           4.797897516806146,
           2.1757110538887834,
           null,
           null,
           2.162483039348711,
           17.549558976696776,
           3.903213265760215,
           0.3746258241070484,
           null,
           0.7755303446195059,
           0.29466884300161494,
           null,
           4.855035895098406,
           7.299375367932272,
           null,
           2.28506520523584,
           null,
           null,
           null,
           29.8861643210071,
           21.470734829835635
          ]
         },
         "name": "",
         "parents": [
          "",
          "",
          "",
          "",
          "",
          "",
          "",
          "",
          "",
          "",
          "",
          "",
          "",
          "",
          "",
          "",
          "",
          "",
          "",
          "",
          "",
          "",
          "",
          "",
          "",
          "",
          "",
          "",
          "",
          "",
          "",
          "",
          "",
          "",
          "",
          "",
          "",
          "",
          "",
          "",
          "",
          "",
          "",
          "",
          "",
          "",
          "",
          "",
          "",
          "",
          "",
          "",
          "",
          "",
          "",
          "",
          "",
          "",
          "",
          "",
          "",
          "",
          "",
          "",
          "",
          "",
          "",
          "",
          "",
          "",
          "",
          "",
          "",
          "",
          "",
          "",
          "",
          "",
          "",
          "",
          "",
          "",
          "",
          "",
          "",
          "",
          "",
          "",
          "",
          "",
          "",
          "",
          "",
          "",
          "",
          "",
          "",
          "",
          "",
          "",
          "",
          "",
          "",
          "",
          "",
          "",
          "",
          "",
          "",
          "",
          "",
          "",
          "",
          "",
          "",
          "",
          "",
          "",
          "",
          "",
          "",
          "",
          "",
          "",
          "",
          "",
          "",
          "",
          "",
          "",
          "",
          "",
          "",
          "",
          "",
          "",
          "",
          "",
          "",
          "",
          "",
          "",
          "",
          "",
          "",
          "",
          "",
          "",
          "",
          "",
          "",
          "",
          "",
          "",
          "",
          "",
          "",
          "",
          "",
          "",
          "",
          "",
          "",
          "",
          "",
          "",
          "",
          "",
          "",
          "",
          "",
          "",
          "",
          "",
          "",
          "",
          "",
          "",
          "",
          "",
          "",
          "",
          "",
          "",
          "",
          "",
          "",
          "",
          "",
          "",
          "",
          "",
          "",
          "",
          "",
          "",
          "",
          "",
          "",
          "",
          "",
          "",
          "",
          "",
          "",
          "",
          "",
          "",
          "",
          "",
          "",
          "",
          "",
          "",
          "",
          "",
          "",
          "",
          "",
          "",
          "",
          "",
          "",
          "",
          "",
          "",
          ""
         ],
         "type": "sunburst",
         "values": [
          39.51588644428921,
          4.921646662360132,
          14.85801797558115,
          43.26938570945923,
          2.00655576999663,
          0.8577771010183385,
          0,
          0,
          0,
          0,
          12.337855429489,
          1.522464424123445,
          0,
          0,
          12.429199519194265,
          0.297868638538495,
          0.2996828450038167,
          0,
          0.45394187532065144,
          19.279439421934804,
          0,
          0,
          9.311839668582794,
          0.10451658564523067,
          3.4268614878124803,
          1.8277073087756919,
          0,
          0.6216930550648383,
          15.335301796996099,
          20.592140938730363,
          7.8336363979733346,
          22.74514002511519,
          21.41502048737312,
          0.19090855280808827,
          29.304705589317248,
          42.26626982909392,
          0,
          0.9400089484307055,
          4.398465102545488,
          8.03173113728935,
          8.850610797365688,
          20.68075403667974,
          0,
          0,
          0.10248235026189934,
          2.0936303399332328,
          0,
          0.4124214088876558,
          5.099175252343683,
          0,
          0,
          0,
          15.937100357665553,
          40.52236988739446,
          0,
          9.250910931174088,
          14.50138321575308,
          12.037456780441753,
          0.5420024725995375,
          0,
          6.046031539243671,
          43.39490443589917,
          39.77725712767886,
          0.3965971497171201,
          24.64711885561007,
          37.45250278723034,
          0,
          4.166569058893741,
          0,
          0,
          0,
          5.950531375267665,
          8.458505678065832,
          0,
          0,
          0,
          10.127654480071728,
          0,
          0,
          3.311323018405126,
          0,
          6.531609826716071,
          20.195579082746665,
          18.27239925182965,
          1.6586315971480587,
          39.6772891064157,
          8.096605953169066,
          0,
          0,
          0,
          5.6013584333646875,
          11.90255181440184,
          3.5511361793000034,
          0,
          11.850789556977485,
          1.9786398195466552,
          0,
          0,
          6.053120273189591,
          0,
          2.8154486650866293,
          6.644471791566008,
          32.766976641217646,
          30.73947877336771,
          0,
          0,
          0,
          0.8981468754412466,
          0,
          9.133877819409138,
          0,
          22.515146600399145,
          0.7413855809411313,
          0.9571097562136974,
          17.492924491970822,
          21.57557979635331,
          0,
          0,
          3.6617713989954774,
          0,
          0,
          42.4452903826071,
          8.578380123483843,
          1.6834858086722428,
          1.1782574591522614,
          19.806192663778326,
          0,
          5.240750126710593,
          36.63695265329192,
          0.0989960433034956,
          3.686008317839921,
          10.479601540496326,
          0,
          11.705635376427598,
          32.560999789524416,
          0.29949081784398457,
          13.711214351665216,
          42.3079665984492,
          18.783493047208406,
          8.199480106497488,
          3.353658536585366,
          7.788303372147011,
          0,
          0,
          0,
          12.212459887865657,
          34.538843963665514,
          27.679445892365685,
          1.4760147601476015,
          0.2930739720551945,
          0.5988363107152148,
          0,
          5.515285435040671,
          7.764288702813325,
          0,
          4.874654877076792,
          54.3718782915973,
          1.8755595834189738,
          12.29111350547652,
          7.641175970179816,
          1.7084198106932216,
          0,
          0,
          0,
          0,
          3.0798325072798773,
          0,
          20.97870804830493,
          1.6353690858850731,
          3.609490978995464,
          0.9752336024675679,
          0,
          2.639179773589038,
          0,
          2.7331921807833433,
          18.71943779974674,
          0.8127616419172312,
          4.152643191963151,
          33.62544460731583,
          0,
          0,
          0,
          0.4981389536388291,
          16.85859621129623,
          0,
          6.350288633925315,
          39.536141900931106,
          0,
          4.2961859734597025,
          0,
          0,
          4.82062376059131,
          0,
          36.93354430751945,
          39.48028541416663,
          4.956258778927846,
          0,
          0,
          10.181005765611784,
          0,
          23.223290445387722,
          38.266658148935676,
          2.1657872155776325,
          25.496778401829427,
          32.640839337076585,
          0.38128577510762096,
          4.797897516806146,
          2.1757110538887834,
          0,
          0,
          2.162483039348711,
          17.549558976696776,
          3.903213265760215,
          0.3746258241070484,
          0,
          0.7755303446195059,
          0.29466884300161494,
          0,
          4.855035895098406,
          7.299375367932272,
          0,
          2.28506520523584,
          0,
          0,
          0,
          29.886164321007097,
          21.470734829835635
         ]
        }
       ],
       "layout": {
        "coloraxis": {
         "cmid": null,
         "colorbar": {
          "title": {
           "text": "Percentage_without"
          }
         },
         "colorscale": [
          [
           0,
           "rgb(5,48,97)"
          ],
          [
           0.1,
           "rgb(33,102,172)"
          ],
          [
           0.2,
           "rgb(67,147,195)"
          ],
          [
           0.3,
           "rgb(146,197,222)"
          ],
          [
           0.4,
           "rgb(209,229,240)"
          ],
          [
           0.5,
           "rgb(247,247,247)"
          ],
          [
           0.6,
           "rgb(253,219,199)"
          ],
          [
           0.7,
           "rgb(244,165,130)"
          ],
          [
           0.8,
           "rgb(214,96,77)"
          ],
          [
           0.9,
           "rgb(178,24,43)"
          ],
          [
           1,
           "rgb(103,0,31)"
          ]
         ]
        },
        "legend": {
         "tracegroupgap": 0
        },
        "margin": {
         "t": 60
        },
        "template": {
         "data": {
          "bar": [
           {
            "error_x": {
             "color": "#2a3f5f"
            },
            "error_y": {
             "color": "#2a3f5f"
            },
            "marker": {
             "line": {
              "color": "#E5ECF6",
              "width": 0.5
             },
             "pattern": {
              "fillmode": "overlay",
              "size": 10,
              "solidity": 0.2
             }
            },
            "type": "bar"
           }
          ],
          "barpolar": [
           {
            "marker": {
             "line": {
              "color": "#E5ECF6",
              "width": 0.5
             },
             "pattern": {
              "fillmode": "overlay",
              "size": 10,
              "solidity": 0.2
             }
            },
            "type": "barpolar"
           }
          ],
          "carpet": [
           {
            "aaxis": {
             "endlinecolor": "#2a3f5f",
             "gridcolor": "white",
             "linecolor": "white",
             "minorgridcolor": "white",
             "startlinecolor": "#2a3f5f"
            },
            "baxis": {
             "endlinecolor": "#2a3f5f",
             "gridcolor": "white",
             "linecolor": "white",
             "minorgridcolor": "white",
             "startlinecolor": "#2a3f5f"
            },
            "type": "carpet"
           }
          ],
          "choropleth": [
           {
            "colorbar": {
             "outlinewidth": 0,
             "ticks": ""
            },
            "type": "choropleth"
           }
          ],
          "contour": [
           {
            "colorbar": {
             "outlinewidth": 0,
             "ticks": ""
            },
            "colorscale": [
             [
              0,
              "#0d0887"
             ],
             [
              0.1111111111111111,
              "#46039f"
             ],
             [
              0.2222222222222222,
              "#7201a8"
             ],
             [
              0.3333333333333333,
              "#9c179e"
             ],
             [
              0.4444444444444444,
              "#bd3786"
             ],
             [
              0.5555555555555556,
              "#d8576b"
             ],
             [
              0.6666666666666666,
              "#ed7953"
             ],
             [
              0.7777777777777778,
              "#fb9f3a"
             ],
             [
              0.8888888888888888,
              "#fdca26"
             ],
             [
              1,
              "#f0f921"
             ]
            ],
            "type": "contour"
           }
          ],
          "contourcarpet": [
           {
            "colorbar": {
             "outlinewidth": 0,
             "ticks": ""
            },
            "type": "contourcarpet"
           }
          ],
          "heatmap": [
           {
            "colorbar": {
             "outlinewidth": 0,
             "ticks": ""
            },
            "colorscale": [
             [
              0,
              "#0d0887"
             ],
             [
              0.1111111111111111,
              "#46039f"
             ],
             [
              0.2222222222222222,
              "#7201a8"
             ],
             [
              0.3333333333333333,
              "#9c179e"
             ],
             [
              0.4444444444444444,
              "#bd3786"
             ],
             [
              0.5555555555555556,
              "#d8576b"
             ],
             [
              0.6666666666666666,
              "#ed7953"
             ],
             [
              0.7777777777777778,
              "#fb9f3a"
             ],
             [
              0.8888888888888888,
              "#fdca26"
             ],
             [
              1,
              "#f0f921"
             ]
            ],
            "type": "heatmap"
           }
          ],
          "heatmapgl": [
           {
            "colorbar": {
             "outlinewidth": 0,
             "ticks": ""
            },
            "colorscale": [
             [
              0,
              "#0d0887"
             ],
             [
              0.1111111111111111,
              "#46039f"
             ],
             [
              0.2222222222222222,
              "#7201a8"
             ],
             [
              0.3333333333333333,
              "#9c179e"
             ],
             [
              0.4444444444444444,
              "#bd3786"
             ],
             [
              0.5555555555555556,
              "#d8576b"
             ],
             [
              0.6666666666666666,
              "#ed7953"
             ],
             [
              0.7777777777777778,
              "#fb9f3a"
             ],
             [
              0.8888888888888888,
              "#fdca26"
             ],
             [
              1,
              "#f0f921"
             ]
            ],
            "type": "heatmapgl"
           }
          ],
          "histogram": [
           {
            "marker": {
             "pattern": {
              "fillmode": "overlay",
              "size": 10,
              "solidity": 0.2
             }
            },
            "type": "histogram"
           }
          ],
          "histogram2d": [
           {
            "colorbar": {
             "outlinewidth": 0,
             "ticks": ""
            },
            "colorscale": [
             [
              0,
              "#0d0887"
             ],
             [
              0.1111111111111111,
              "#46039f"
             ],
             [
              0.2222222222222222,
              "#7201a8"
             ],
             [
              0.3333333333333333,
              "#9c179e"
             ],
             [
              0.4444444444444444,
              "#bd3786"
             ],
             [
              0.5555555555555556,
              "#d8576b"
             ],
             [
              0.6666666666666666,
              "#ed7953"
             ],
             [
              0.7777777777777778,
              "#fb9f3a"
             ],
             [
              0.8888888888888888,
              "#fdca26"
             ],
             [
              1,
              "#f0f921"
             ]
            ],
            "type": "histogram2d"
           }
          ],
          "histogram2dcontour": [
           {
            "colorbar": {
             "outlinewidth": 0,
             "ticks": ""
            },
            "colorscale": [
             [
              0,
              "#0d0887"
             ],
             [
              0.1111111111111111,
              "#46039f"
             ],
             [
              0.2222222222222222,
              "#7201a8"
             ],
             [
              0.3333333333333333,
              "#9c179e"
             ],
             [
              0.4444444444444444,
              "#bd3786"
             ],
             [
              0.5555555555555556,
              "#d8576b"
             ],
             [
              0.6666666666666666,
              "#ed7953"
             ],
             [
              0.7777777777777778,
              "#fb9f3a"
             ],
             [
              0.8888888888888888,
              "#fdca26"
             ],
             [
              1,
              "#f0f921"
             ]
            ],
            "type": "histogram2dcontour"
           }
          ],
          "mesh3d": [
           {
            "colorbar": {
             "outlinewidth": 0,
             "ticks": ""
            },
            "type": "mesh3d"
           }
          ],
          "parcoords": [
           {
            "line": {
             "colorbar": {
              "outlinewidth": 0,
              "ticks": ""
             }
            },
            "type": "parcoords"
           }
          ],
          "pie": [
           {
            "automargin": true,
            "type": "pie"
           }
          ],
          "scatter": [
           {
            "marker": {
             "colorbar": {
              "outlinewidth": 0,
              "ticks": ""
             }
            },
            "type": "scatter"
           }
          ],
          "scatter3d": [
           {
            "line": {
             "colorbar": {
              "outlinewidth": 0,
              "ticks": ""
             }
            },
            "marker": {
             "colorbar": {
              "outlinewidth": 0,
              "ticks": ""
             }
            },
            "type": "scatter3d"
           }
          ],
          "scattercarpet": [
           {
            "marker": {
             "colorbar": {
              "outlinewidth": 0,
              "ticks": ""
             }
            },
            "type": "scattercarpet"
           }
          ],
          "scattergeo": [
           {
            "marker": {
             "colorbar": {
              "outlinewidth": 0,
              "ticks": ""
             }
            },
            "type": "scattergeo"
           }
          ],
          "scattergl": [
           {
            "marker": {
             "colorbar": {
              "outlinewidth": 0,
              "ticks": ""
             }
            },
            "type": "scattergl"
           }
          ],
          "scattermapbox": [
           {
            "marker": {
             "colorbar": {
              "outlinewidth": 0,
              "ticks": ""
             }
            },
            "type": "scattermapbox"
           }
          ],
          "scatterpolar": [
           {
            "marker": {
             "colorbar": {
              "outlinewidth": 0,
              "ticks": ""
             }
            },
            "type": "scatterpolar"
           }
          ],
          "scatterpolargl": [
           {
            "marker": {
             "colorbar": {
              "outlinewidth": 0,
              "ticks": ""
             }
            },
            "type": "scatterpolargl"
           }
          ],
          "scatterternary": [
           {
            "marker": {
             "colorbar": {
              "outlinewidth": 0,
              "ticks": ""
             }
            },
            "type": "scatterternary"
           }
          ],
          "surface": [
           {
            "colorbar": {
             "outlinewidth": 0,
             "ticks": ""
            },
            "colorscale": [
             [
              0,
              "#0d0887"
             ],
             [
              0.1111111111111111,
              "#46039f"
             ],
             [
              0.2222222222222222,
              "#7201a8"
             ],
             [
              0.3333333333333333,
              "#9c179e"
             ],
             [
              0.4444444444444444,
              "#bd3786"
             ],
             [
              0.5555555555555556,
              "#d8576b"
             ],
             [
              0.6666666666666666,
              "#ed7953"
             ],
             [
              0.7777777777777778,
              "#fb9f3a"
             ],
             [
              0.8888888888888888,
              "#fdca26"
             ],
             [
              1,
              "#f0f921"
             ]
            ],
            "type": "surface"
           }
          ],
          "table": [
           {
            "cells": {
             "fill": {
              "color": "#EBF0F8"
             },
             "line": {
              "color": "white"
             }
            },
            "header": {
             "fill": {
              "color": "#C8D4E3"
             },
             "line": {
              "color": "white"
             }
            },
            "type": "table"
           }
          ]
         },
         "layout": {
          "annotationdefaults": {
           "arrowcolor": "#2a3f5f",
           "arrowhead": 0,
           "arrowwidth": 1
          },
          "autotypenumbers": "strict",
          "coloraxis": {
           "colorbar": {
            "outlinewidth": 0,
            "ticks": ""
           }
          },
          "colorscale": {
           "diverging": [
            [
             0,
             "#8e0152"
            ],
            [
             0.1,
             "#c51b7d"
            ],
            [
             0.2,
             "#de77ae"
            ],
            [
             0.3,
             "#f1b6da"
            ],
            [
             0.4,
             "#fde0ef"
            ],
            [
             0.5,
             "#f7f7f7"
            ],
            [
             0.6,
             "#e6f5d0"
            ],
            [
             0.7,
             "#b8e186"
            ],
            [
             0.8,
             "#7fbc41"
            ],
            [
             0.9,
             "#4d9221"
            ],
            [
             1,
             "#276419"
            ]
           ],
           "sequential": [
            [
             0,
             "#0d0887"
            ],
            [
             0.1111111111111111,
             "#46039f"
            ],
            [
             0.2222222222222222,
             "#7201a8"
            ],
            [
             0.3333333333333333,
             "#9c179e"
            ],
            [
             0.4444444444444444,
             "#bd3786"
            ],
            [
             0.5555555555555556,
             "#d8576b"
            ],
            [
             0.6666666666666666,
             "#ed7953"
            ],
            [
             0.7777777777777778,
             "#fb9f3a"
            ],
            [
             0.8888888888888888,
             "#fdca26"
            ],
            [
             1,
             "#f0f921"
            ]
           ],
           "sequentialminus": [
            [
             0,
             "#0d0887"
            ],
            [
             0.1111111111111111,
             "#46039f"
            ],
            [
             0.2222222222222222,
             "#7201a8"
            ],
            [
             0.3333333333333333,
             "#9c179e"
            ],
            [
             0.4444444444444444,
             "#bd3786"
            ],
            [
             0.5555555555555556,
             "#d8576b"
            ],
            [
             0.6666666666666666,
             "#ed7953"
            ],
            [
             0.7777777777777778,
             "#fb9f3a"
            ],
            [
             0.8888888888888888,
             "#fdca26"
            ],
            [
             1,
             "#f0f921"
            ]
           ]
          },
          "colorway": [
           "#636efa",
           "#EF553B",
           "#00cc96",
           "#ab63fa",
           "#FFA15A",
           "#19d3f3",
           "#FF6692",
           "#B6E880",
           "#FF97FF",
           "#FECB52"
          ],
          "font": {
           "color": "#2a3f5f"
          },
          "geo": {
           "bgcolor": "white",
           "lakecolor": "white",
           "landcolor": "#E5ECF6",
           "showlakes": true,
           "showland": true,
           "subunitcolor": "white"
          },
          "hoverlabel": {
           "align": "left"
          },
          "hovermode": "closest",
          "mapbox": {
           "style": "light"
          },
          "paper_bgcolor": "white",
          "plot_bgcolor": "#E5ECF6",
          "polar": {
           "angularaxis": {
            "gridcolor": "white",
            "linecolor": "white",
            "ticks": ""
           },
           "bgcolor": "#E5ECF6",
           "radialaxis": {
            "gridcolor": "white",
            "linecolor": "white",
            "ticks": ""
           }
          },
          "scene": {
           "xaxis": {
            "backgroundcolor": "#E5ECF6",
            "gridcolor": "white",
            "gridwidth": 2,
            "linecolor": "white",
            "showbackground": true,
            "ticks": "",
            "zerolinecolor": "white"
           },
           "yaxis": {
            "backgroundcolor": "#E5ECF6",
            "gridcolor": "white",
            "gridwidth": 2,
            "linecolor": "white",
            "showbackground": true,
            "ticks": "",
            "zerolinecolor": "white"
           },
           "zaxis": {
            "backgroundcolor": "#E5ECF6",
            "gridcolor": "white",
            "gridwidth": 2,
            "linecolor": "white",
            "showbackground": true,
            "ticks": "",
            "zerolinecolor": "white"
           }
          },
          "shapedefaults": {
           "line": {
            "color": "#2a3f5f"
           }
          },
          "ternary": {
           "aaxis": {
            "gridcolor": "white",
            "linecolor": "white",
            "ticks": ""
           },
           "baxis": {
            "gridcolor": "white",
            "linecolor": "white",
            "ticks": ""
           },
           "bgcolor": "#E5ECF6",
           "caxis": {
            "gridcolor": "white",
            "linecolor": "white",
            "ticks": ""
           }
          },
          "title": {
           "x": 0.05
          },
          "xaxis": {
           "automargin": true,
           "gridcolor": "white",
           "linecolor": "white",
           "ticks": "",
           "title": {
            "standoff": 15
           },
           "zerolinecolor": "white",
           "zerolinewidth": 2
          },
          "yaxis": {
           "automargin": true,
           "gridcolor": "white",
           "linecolor": "white",
           "ticks": "",
           "title": {
            "standoff": 15
           },
           "zerolinecolor": "white",
           "zerolinewidth": 2
          }
         }
        }
       }
      },
      "text/html": [
       "<div>                            <div id=\"3c9476ee-9a87-4008-a0e8-4716e355ee5c\" class=\"plotly-graph-div\" style=\"height:525px; width:100%;\"></div>            <script type=\"text/javascript\">                require([\"plotly\"], function(Plotly) {                    window.PLOTLYENV=window.PLOTLYENV || {};                                    if (document.getElementById(\"3c9476ee-9a87-4008-a0e8-4716e355ee5c\")) {                    Plotly.newPlot(                        \"3c9476ee-9a87-4008-a0e8-4716e355ee5c\",                        [{\"branchvalues\":\"total\",\"customdata\":[[39.51588644428921],[4.921646662360132],[14.85801797558115],[43.26938570945923],[2.00655576999663],[0.8577771010183385],[null],[null],[null],[null],[12.337855429489],[1.522464424123445],[null],[null],[12.429199519194263],[0.297868638538495],[0.2996828450038167],[null],[0.45394187532065144],[19.279439421934804],[null],[null],[9.311839668582794],[0.10451658564523067],[3.426861487812481],[1.8277073087756919],[null],[0.6216930550648383],[15.335301796996099],[20.592140938730363],[7.8336363979733346],[22.745140025115187],[21.41502048737312],[0.19090855280808827],[29.304705589317248],[42.26626982909392],[null],[0.9400089484307055],[4.398465102545488],[8.03173113728935],[8.850610797365688],[20.68075403667974],[null],[null],[0.10248235026189935],[2.0936303399332328],[null],[0.4124214088876558],[5.099175252343683],[null],[null],[null],[15.937100357665553],[40.52236988739446],[null],[9.250910931174088],[14.50138321575308],[12.037456780441753],[0.5420024725995375],[null],[6.046031539243671],[43.39490443589917],[39.77725712767886],[0.3965971497171201],[24.647118855610067],[37.45250278723034],[null],[4.166569058893741],[null],[null],[null],[5.950531375267665],[8.458505678065832],[null],[null],[null],[10.127654480071728],[null],[null],[3.3113230184051266],[null],[6.531609826716071],[20.195579082746665],[18.27239925182965],[1.6586315971480587],[39.6772891064157],[8.096605953169066],[null],[null],[null],[5.6013584333646875],[11.90255181440184],[3.5511361793000034],[null],[11.850789556977485],[1.978639819546655],[null],[null],[6.053120273189591],[null],[2.8154486650866293],[6.644471791566008],[32.766976641217646],[30.73947877336771],[null],[null],[null],[0.8981468754412466],[null],[9.133877819409138],[null],[22.515146600399145],[0.7413855809411314],[0.9571097562136974],[17.492924491970822],[21.57557979635331],[null],[null],[3.6617713989954774],[null],[null],[42.4452903826071],[8.578380123483843],[1.6834858086722428],[1.1782574591522614],[19.806192663778326],[null],[5.240750126710593],[36.63695265329192],[0.09899604330349561],[3.686008317839921],[10.479601540496326],[null],[11.705635376427598],[32.560999789524416],[0.29949081784398457],[13.711214351665216],[42.3079665984492],[18.783493047208406],[8.199480106497488],[3.3536585365853666],[7.788303372147011],[null],[null],[null],[12.212459887865656],[34.538843963665514],[27.679445892365685],[1.4760147601476017],[0.2930739720551945],[0.5988363107152148],[null],[5.515285435040671],[7.764288702813325],[null],[4.874654877076792],[54.3718782915973],[1.8755595834189738],[12.291113505476519],[7.641175970179816],[1.7084198106932216],[null],[null],[null],[null],[3.079832507279878],[null],[20.97870804830493],[1.6353690858850731],[3.609490978995464],[0.9752336024675679],[null],[2.639179773589038],[null],[2.7331921807833433],[18.71943779974674],[0.8127616419172312],[4.152643191963151],[33.62544460731583],[null],[null],[null],[0.4981389536388291],[16.85859621129623],[null],[6.350288633925316],[39.536141900931106],[null],[4.2961859734597025],[null],[null],[4.82062376059131],[null],[36.93354430751945],[39.48028541416663],[4.956258778927846],[null],[null],[10.181005765611784],[null],[23.223290445387722],[38.266658148935676],[2.1657872155776325],[25.49677840182943],[32.640839337076585],[0.38128577510762096],[4.797897516806146],[2.1757110538887834],[null],[null],[2.162483039348711],[17.549558976696776],[3.903213265760215],[0.3746258241070484],[null],[0.7755303446195059],[0.29466884300161494],[null],[4.855035895098406],[7.299375367932272],[null],[2.28506520523584],[null],[null],[null],[29.8861643210071],[21.470734829835635]],\"domain\":{\"x\":[0.0,1.0],\"y\":[0.0,1.0]},\"hovertemplate\":\"labels=%{label}<br>Percentage_without_sum=%{value}<br>parent=%{parent}<br>id=%{id}<br>Percentage_without=%{color}<extra></extra>\",\"ids\":[\"Afghanistan\",\"Albania\",\"Algeria\",\"Angola\",\"Antigua and Barbuda\",\"Argentina\",\"Armenia\",\"Aruba\",\"Australia\",\"Austria\",\"Azerbaijan\",\"Bahamas\",\"Bahamas, The\",\"Bahrain\",\"Bangladesh\",\"Barbados\",\"Belarus\",\"Belgium\",\"Belize\",\"Benin\",\"Bermuda\",\"Bhutan\",\"Bolivia\",\"Bosnia and Herzegovina\",\"Botswana\",\"Brazil\",\"Brunei Darussalam\",\"Bulgaria\",\"Burkina Faso\",\"Burundi\",\"Cabo Verde\",\"Cambodia\",\"Cameroon\",\"Canada\",\"Central African Republic\",\"Chad\",\"Channel Islands\",\"Chile\",\"China\",\"Colombia\",\"Comoros\",\"Congo\",\"Congo, Dem. Rep.\",\"Congo, Rep.\",\"Cook Islands\",\"Costa Rica\",\"Cote d'Ivoire\",\"Croatia\",\"Cuba\",\"Curacao\",\"Cyprus\",\"Czech Republic\",\"C\\u00f4te d'Ivoire\",\"DR Congo\",\"Denmark\",\"Djibouti\",\"Dominican Republic\",\"Ecuador\",\"Egypt\",\"Egypt, Arab Rep.\",\"El Salvador\",\"Equatorial Guinea\",\"Eritrea\",\"Estonia\",\"Eswatini\",\"Ethiopia\",\"Faroe Islands\",\"Fiji\",\"Finland\",\"France\",\"French Polynesia\",\"Gabon\",\"Gambia\",\"Gambia, The\",\"Georgia\",\"Germany\",\"Ghana\",\"Greece\",\"Greenland\",\"Grenada\",\"Guam\",\"Guatemala\",\"Guinea\",\"Guinea-Bissau\",\"Guyana\",\"Haiti\",\"Honduras\",\"Hong Kong SAR, China\",\"Hungary\",\"Iceland\",\"India\",\"Indonesia\",\"Iran\",\"Iran, Islamic Rep.\",\"Iraq\",\"Ireland\",\"Israel\",\"Italy\",\"Jamaica\",\"Japan\",\"Jordan\",\"Kazakhstan\",\"Kenya\",\"Kiribati\",\"Korea, Dem. People's Rep.\",\"Korea, Rep.\",\"Kosovo\",\"Kuwait\",\"Kyrgyz Republic\",\"Kyrgyzstan\",\"Lao PDR\",\"Laos\",\"Latvia\",\"Lebanon\",\"Lesotho\",\"Liberia\",\"Libya\",\"Liechtenstein\",\"Lithuania\",\"Luxembourg\",\"Macao SAR, China\",\"Madagascar\",\"Malawi\",\"Malaysia\",\"Maldives\",\"Mali\",\"Malta\",\"Marshall Islands\",\"Mauritania\",\"Mauritius\",\"Mexico\",\"Micronesia\",\"Micronesia, Fed. Sts.\",\"Moldova\",\"Mongolia\",\"Montenegro\",\"Morocco\",\"Mozambique\",\"Myanmar\",\"Namibia\",\"Nauru\",\"Nepal\",\"Netherlands\",\"New Caledonia\",\"New Zealand\",\"Nicaragua\",\"Niger\",\"Nigeria\",\"Niue\",\"North Korea\",\"North Macedonia\",\"Norway\",\"Oman\",\"Pakistan\",\"Palau\",\"Panama\",\"Papua New Guinea\",\"Paraguay\",\"Peru\",\"Philippines\",\"Poland\",\"Portugal\",\"Puerto Rico\",\"Qatar\",\"Romania\",\"Russia\",\"Russian Federation\",\"Rwanda\",\"Saint Kitts & Nevis\",\"Saint Lucia\",\"Samoa\",\"San Marino\",\"Sao Tome & Principe\",\"Sao Tome and Principe\",\"Saudi Arabia\",\"Senegal\",\"Serbia\",\"Seychelles\",\"Sierra Leone\",\"Singapore\",\"Sint Maarten (Dutch part)\",\"Slovak Republic\",\"Slovenia\",\"Solomon Islands\",\"Somalia\",\"South Africa\",\"South Sudan\",\"Spain\",\"Sri Lanka\",\"St. Lucia\",\"St. Martin (French part)\",\"St. Vincent & Grenadines\",\"St. Vincent and the Grenadines\",\"State of Palestine\",\"Sudan\",\"Suriname\",\"Sweden\",\"Switzerland\",\"Syria\",\"Syrian Arab Republic\",\"Tajikistan\",\"Tanzania\",\"Thailand\",\"Timor-Leste\",\"Togo\",\"Tonga\",\"Trinidad and Tobago\",\"Tunisia\",\"Turkey\",\"Turkmenistan\",\"Tuvalu\",\"Uganda\",\"Ukraine\",\"United Arab Emirates\",\"United Kingdom\",\"United States\",\"Uruguay\",\"Uzbekistan\",\"Vanuatu\",\"Venezuela\",\"Venezuela, RB\",\"Vietnam\",\"Virgin Islands (U.S.)\",\"West Bank and Gaza\",\"Yemen, Rep.\",\"Zambia\",\"Zimbabwe\"],\"labels\":[\"Afghanistan\",\"Albania\",\"Algeria\",\"Angola\",\"Antigua and Barbuda\",\"Argentina\",\"Armenia\",\"Aruba\",\"Australia\",\"Austria\",\"Azerbaijan\",\"Bahamas\",\"Bahamas, The\",\"Bahrain\",\"Bangladesh\",\"Barbados\",\"Belarus\",\"Belgium\",\"Belize\",\"Benin\",\"Bermuda\",\"Bhutan\",\"Bolivia\",\"Bosnia and Herzegovina\",\"Botswana\",\"Brazil\",\"Brunei Darussalam\",\"Bulgaria\",\"Burkina Faso\",\"Burundi\",\"Cabo Verde\",\"Cambodia\",\"Cameroon\",\"Canada\",\"Central African Republic\",\"Chad\",\"Channel Islands\",\"Chile\",\"China\",\"Colombia\",\"Comoros\",\"Congo\",\"Congo, Dem. Rep.\",\"Congo, Rep.\",\"Cook Islands\",\"Costa Rica\",\"Cote d'Ivoire\",\"Croatia\",\"Cuba\",\"Curacao\",\"Cyprus\",\"Czech Republic\",\"C\\u00f4te d'Ivoire\",\"DR Congo\",\"Denmark\",\"Djibouti\",\"Dominican Republic\",\"Ecuador\",\"Egypt\",\"Egypt, Arab Rep.\",\"El Salvador\",\"Equatorial Guinea\",\"Eritrea\",\"Estonia\",\"Eswatini\",\"Ethiopia\",\"Faroe Islands\",\"Fiji\",\"Finland\",\"France\",\"French Polynesia\",\"Gabon\",\"Gambia\",\"Gambia, The\",\"Georgia\",\"Germany\",\"Ghana\",\"Greece\",\"Greenland\",\"Grenada\",\"Guam\",\"Guatemala\",\"Guinea\",\"Guinea-Bissau\",\"Guyana\",\"Haiti\",\"Honduras\",\"Hong Kong SAR, China\",\"Hungary\",\"Iceland\",\"India\",\"Indonesia\",\"Iran\",\"Iran, Islamic Rep.\",\"Iraq\",\"Ireland\",\"Israel\",\"Italy\",\"Jamaica\",\"Japan\",\"Jordan\",\"Kazakhstan\",\"Kenya\",\"Kiribati\",\"Korea, Dem. People's Rep.\",\"Korea, Rep.\",\"Kosovo\",\"Kuwait\",\"Kyrgyz Republic\",\"Kyrgyzstan\",\"Lao PDR\",\"Laos\",\"Latvia\",\"Lebanon\",\"Lesotho\",\"Liberia\",\"Libya\",\"Liechtenstein\",\"Lithuania\",\"Luxembourg\",\"Macao SAR, China\",\"Madagascar\",\"Malawi\",\"Malaysia\",\"Maldives\",\"Mali\",\"Malta\",\"Marshall Islands\",\"Mauritania\",\"Mauritius\",\"Mexico\",\"Micronesia\",\"Micronesia, Fed. Sts.\",\"Moldova\",\"Mongolia\",\"Montenegro\",\"Morocco\",\"Mozambique\",\"Myanmar\",\"Namibia\",\"Nauru\",\"Nepal\",\"Netherlands\",\"New Caledonia\",\"New Zealand\",\"Nicaragua\",\"Niger\",\"Nigeria\",\"Niue\",\"North Korea\",\"North Macedonia\",\"Norway\",\"Oman\",\"Pakistan\",\"Palau\",\"Panama\",\"Papua New Guinea\",\"Paraguay\",\"Peru\",\"Philippines\",\"Poland\",\"Portugal\",\"Puerto Rico\",\"Qatar\",\"Romania\",\"Russia\",\"Russian Federation\",\"Rwanda\",\"Saint Kitts & Nevis\",\"Saint Lucia\",\"Samoa\",\"San Marino\",\"Sao Tome & Principe\",\"Sao Tome and Principe\",\"Saudi Arabia\",\"Senegal\",\"Serbia\",\"Seychelles\",\"Sierra Leone\",\"Singapore\",\"Sint Maarten (Dutch part)\",\"Slovak Republic\",\"Slovenia\",\"Solomon Islands\",\"Somalia\",\"South Africa\",\"South Sudan\",\"Spain\",\"Sri Lanka\",\"St. Lucia\",\"St. Martin (French part)\",\"St. Vincent & Grenadines\",\"St. Vincent and the Grenadines\",\"State of Palestine\",\"Sudan\",\"Suriname\",\"Sweden\",\"Switzerland\",\"Syria\",\"Syrian Arab Republic\",\"Tajikistan\",\"Tanzania\",\"Thailand\",\"Timor-Leste\",\"Togo\",\"Tonga\",\"Trinidad and Tobago\",\"Tunisia\",\"Turkey\",\"Turkmenistan\",\"Tuvalu\",\"Uganda\",\"Ukraine\",\"United Arab Emirates\",\"United Kingdom\",\"United States\",\"Uruguay\",\"Uzbekistan\",\"Vanuatu\",\"Venezuela\",\"Venezuela, RB\",\"Vietnam\",\"Virgin Islands (U.S.)\",\"West Bank and Gaza\",\"Yemen, Rep.\",\"Zambia\",\"Zimbabwe\"],\"marker\":{\"coloraxis\":\"coloraxis\",\"colors\":[39.51588644428921,4.921646662360132,14.85801797558115,43.26938570945923,2.00655576999663,0.8577771010183385,null,null,null,null,12.337855429489,1.522464424123445,null,null,12.429199519194263,0.297868638538495,0.2996828450038167,null,0.45394187532065144,19.279439421934804,null,null,9.311839668582794,0.10451658564523067,3.426861487812481,1.8277073087756919,null,0.6216930550648383,15.335301796996099,20.592140938730363,7.8336363979733346,22.745140025115187,21.41502048737312,0.19090855280808827,29.304705589317248,42.26626982909392,null,0.9400089484307055,4.398465102545488,8.03173113728935,8.850610797365688,20.68075403667974,null,null,0.10248235026189935,2.0936303399332328,null,0.4124214088876558,5.099175252343683,null,null,null,15.937100357665553,40.52236988739446,null,9.250910931174088,14.50138321575308,12.037456780441753,0.5420024725995375,null,6.046031539243671,43.39490443589917,39.77725712767886,0.3965971497171201,24.647118855610067,37.45250278723034,null,4.166569058893741,null,null,null,5.950531375267665,8.458505678065832,null,null,null,10.127654480071728,null,null,3.3113230184051266,null,6.531609826716071,20.195579082746665,18.27239925182965,1.6586315971480587,39.6772891064157,8.096605953169066,null,null,null,5.6013584333646875,11.90255181440184,3.5511361793000034,null,11.850789556977485,1.978639819546655,null,null,6.053120273189591,null,2.8154486650866293,6.644471791566008,32.766976641217646,30.73947877336771,null,null,null,0.8981468754412466,null,9.133877819409138,null,22.515146600399145,0.7413855809411314,0.9571097562136974,17.492924491970822,21.57557979635331,null,null,3.6617713989954774,null,null,42.4452903826071,8.578380123483843,1.6834858086722428,1.1782574591522614,19.806192663778326,null,5.240750126710593,36.63695265329192,0.09899604330349561,3.686008317839921,10.479601540496326,null,11.705635376427598,32.560999789524416,0.29949081784398457,13.711214351665216,42.3079665984492,18.783493047208406,8.199480106497488,3.3536585365853666,7.788303372147011,null,null,null,12.212459887865656,34.538843963665514,27.679445892365685,1.4760147601476017,0.2930739720551945,0.5988363107152148,null,5.515285435040671,7.764288702813325,null,4.874654877076792,54.3718782915973,1.8755595834189738,12.291113505476519,7.641175970179816,1.7084198106932216,null,null,null,null,3.079832507279878,null,20.97870804830493,1.6353690858850731,3.609490978995464,0.9752336024675679,null,2.639179773589038,null,2.7331921807833433,18.71943779974674,0.8127616419172312,4.152643191963151,33.62544460731583,null,null,null,0.4981389536388291,16.85859621129623,null,6.350288633925316,39.536141900931106,null,4.2961859734597025,null,null,4.82062376059131,null,36.93354430751945,39.48028541416663,4.956258778927846,null,null,10.181005765611784,null,23.223290445387722,38.266658148935676,2.1657872155776325,25.49677840182943,32.640839337076585,0.38128577510762096,4.797897516806146,2.1757110538887834,null,null,2.162483039348711,17.549558976696776,3.903213265760215,0.3746258241070484,null,0.7755303446195059,0.29466884300161494,null,4.855035895098406,7.299375367932272,null,2.28506520523584,null,null,null,29.8861643210071,21.470734829835635]},\"name\":\"\",\"parents\":[\"\",\"\",\"\",\"\",\"\",\"\",\"\",\"\",\"\",\"\",\"\",\"\",\"\",\"\",\"\",\"\",\"\",\"\",\"\",\"\",\"\",\"\",\"\",\"\",\"\",\"\",\"\",\"\",\"\",\"\",\"\",\"\",\"\",\"\",\"\",\"\",\"\",\"\",\"\",\"\",\"\",\"\",\"\",\"\",\"\",\"\",\"\",\"\",\"\",\"\",\"\",\"\",\"\",\"\",\"\",\"\",\"\",\"\",\"\",\"\",\"\",\"\",\"\",\"\",\"\",\"\",\"\",\"\",\"\",\"\",\"\",\"\",\"\",\"\",\"\",\"\",\"\",\"\",\"\",\"\",\"\",\"\",\"\",\"\",\"\",\"\",\"\",\"\",\"\",\"\",\"\",\"\",\"\",\"\",\"\",\"\",\"\",\"\",\"\",\"\",\"\",\"\",\"\",\"\",\"\",\"\",\"\",\"\",\"\",\"\",\"\",\"\",\"\",\"\",\"\",\"\",\"\",\"\",\"\",\"\",\"\",\"\",\"\",\"\",\"\",\"\",\"\",\"\",\"\",\"\",\"\",\"\",\"\",\"\",\"\",\"\",\"\",\"\",\"\",\"\",\"\",\"\",\"\",\"\",\"\",\"\",\"\",\"\",\"\",\"\",\"\",\"\",\"\",\"\",\"\",\"\",\"\",\"\",\"\",\"\",\"\",\"\",\"\",\"\",\"\",\"\",\"\",\"\",\"\",\"\",\"\",\"\",\"\",\"\",\"\",\"\",\"\",\"\",\"\",\"\",\"\",\"\",\"\",\"\",\"\",\"\",\"\",\"\",\"\",\"\",\"\",\"\",\"\",\"\",\"\",\"\",\"\",\"\",\"\",\"\",\"\",\"\",\"\",\"\",\"\",\"\",\"\",\"\",\"\",\"\",\"\",\"\",\"\",\"\",\"\",\"\",\"\",\"\",\"\",\"\",\"\",\"\",\"\",\"\",\"\",\"\",\"\"],\"values\":[39.51588644428921,4.921646662360132,14.85801797558115,43.26938570945923,2.00655576999663,0.8577771010183385,0.0,0.0,0.0,0.0,12.337855429489,1.522464424123445,0.0,0.0,12.429199519194265,0.297868638538495,0.2996828450038167,0.0,0.45394187532065144,19.279439421934804,0.0,0.0,9.311839668582794,0.10451658564523067,3.4268614878124803,1.8277073087756919,0.0,0.6216930550648383,15.335301796996099,20.592140938730363,7.8336363979733346,22.74514002511519,21.41502048737312,0.19090855280808827,29.304705589317248,42.26626982909392,0.0,0.9400089484307055,4.398465102545488,8.03173113728935,8.850610797365688,20.68075403667974,0.0,0.0,0.10248235026189934,2.0936303399332328,0.0,0.4124214088876558,5.099175252343683,0.0,0.0,0.0,15.937100357665553,40.52236988739446,0.0,9.250910931174088,14.50138321575308,12.037456780441753,0.5420024725995375,0.0,6.046031539243671,43.39490443589917,39.77725712767886,0.3965971497171201,24.64711885561007,37.45250278723034,0.0,4.166569058893741,0.0,0.0,0.0,5.950531375267665,8.458505678065832,0.0,0.0,0.0,10.127654480071728,0.0,0.0,3.311323018405126,0.0,6.531609826716071,20.195579082746665,18.27239925182965,1.6586315971480587,39.6772891064157,8.096605953169066,0.0,0.0,0.0,5.6013584333646875,11.90255181440184,3.5511361793000034,0.0,11.850789556977485,1.9786398195466552,0.0,0.0,6.053120273189591,0.0,2.8154486650866293,6.644471791566008,32.766976641217646,30.73947877336771,0.0,0.0,0.0,0.8981468754412466,0.0,9.133877819409138,0.0,22.515146600399145,0.7413855809411313,0.9571097562136974,17.492924491970822,21.57557979635331,0.0,0.0,3.6617713989954774,0.0,0.0,42.4452903826071,8.578380123483843,1.6834858086722428,1.1782574591522614,19.806192663778326,0.0,5.240750126710593,36.63695265329192,0.0989960433034956,3.686008317839921,10.479601540496326,0.0,11.705635376427598,32.560999789524416,0.29949081784398457,13.711214351665216,42.3079665984492,18.783493047208406,8.199480106497488,3.353658536585366,7.788303372147011,0.0,0.0,0.0,12.212459887865657,34.538843963665514,27.679445892365685,1.4760147601476015,0.2930739720551945,0.5988363107152148,0.0,5.515285435040671,7.764288702813325,0.0,4.874654877076792,54.3718782915973,1.8755595834189738,12.29111350547652,7.641175970179816,1.7084198106932216,0.0,0.0,0.0,0.0,3.0798325072798773,0.0,20.97870804830493,1.6353690858850731,3.609490978995464,0.9752336024675679,0.0,2.639179773589038,0.0,2.7331921807833433,18.71943779974674,0.8127616419172312,4.152643191963151,33.62544460731583,0.0,0.0,0.0,0.4981389536388291,16.85859621129623,0.0,6.350288633925315,39.536141900931106,0.0,4.2961859734597025,0.0,0.0,4.82062376059131,0.0,36.93354430751945,39.48028541416663,4.956258778927846,0.0,0.0,10.181005765611784,0.0,23.223290445387722,38.266658148935676,2.1657872155776325,25.496778401829427,32.640839337076585,0.38128577510762096,4.797897516806146,2.1757110538887834,0.0,0.0,2.162483039348711,17.549558976696776,3.903213265760215,0.3746258241070484,0.0,0.7755303446195059,0.29466884300161494,0.0,4.855035895098406,7.299375367932272,0.0,2.28506520523584,0.0,0.0,0.0,29.886164321007097,21.470734829835635],\"type\":\"sunburst\"}],                        {\"coloraxis\":{\"cmid\":null,\"colorbar\":{\"title\":{\"text\":\"Percentage_without\"}},\"colorscale\":[[0.0,\"rgb(5,48,97)\"],[0.1,\"rgb(33,102,172)\"],[0.2,\"rgb(67,147,195)\"],[0.3,\"rgb(146,197,222)\"],[0.4,\"rgb(209,229,240)\"],[0.5,\"rgb(247,247,247)\"],[0.6,\"rgb(253,219,199)\"],[0.7,\"rgb(244,165,130)\"],[0.8,\"rgb(214,96,77)\"],[0.9,\"rgb(178,24,43)\"],[1.0,\"rgb(103,0,31)\"]]},\"legend\":{\"tracegroupgap\":0},\"margin\":{\"t\":60},\"template\":{\"data\":{\"barpolar\":[{\"marker\":{\"line\":{\"color\":\"#E5ECF6\",\"width\":0.5},\"pattern\":{\"fillmode\":\"overlay\",\"size\":10,\"solidity\":0.2}},\"type\":\"barpolar\"}],\"bar\":[{\"error_x\":{\"color\":\"#2a3f5f\"},\"error_y\":{\"color\":\"#2a3f5f\"},\"marker\":{\"line\":{\"color\":\"#E5ECF6\",\"width\":0.5},\"pattern\":{\"fillmode\":\"overlay\",\"size\":10,\"solidity\":0.2}},\"type\":\"bar\"}],\"carpet\":[{\"aaxis\":{\"endlinecolor\":\"#2a3f5f\",\"gridcolor\":\"white\",\"linecolor\":\"white\",\"minorgridcolor\":\"white\",\"startlinecolor\":\"#2a3f5f\"},\"baxis\":{\"endlinecolor\":\"#2a3f5f\",\"gridcolor\":\"white\",\"linecolor\":\"white\",\"minorgridcolor\":\"white\",\"startlinecolor\":\"#2a3f5f\"},\"type\":\"carpet\"}],\"choropleth\":[{\"colorbar\":{\"outlinewidth\":0,\"ticks\":\"\"},\"type\":\"choropleth\"}],\"contourcarpet\":[{\"colorbar\":{\"outlinewidth\":0,\"ticks\":\"\"},\"type\":\"contourcarpet\"}],\"contour\":[{\"colorbar\":{\"outlinewidth\":0,\"ticks\":\"\"},\"colorscale\":[[0.0,\"#0d0887\"],[0.1111111111111111,\"#46039f\"],[0.2222222222222222,\"#7201a8\"],[0.3333333333333333,\"#9c179e\"],[0.4444444444444444,\"#bd3786\"],[0.5555555555555556,\"#d8576b\"],[0.6666666666666666,\"#ed7953\"],[0.7777777777777778,\"#fb9f3a\"],[0.8888888888888888,\"#fdca26\"],[1.0,\"#f0f921\"]],\"type\":\"contour\"}],\"heatmapgl\":[{\"colorbar\":{\"outlinewidth\":0,\"ticks\":\"\"},\"colorscale\":[[0.0,\"#0d0887\"],[0.1111111111111111,\"#46039f\"],[0.2222222222222222,\"#7201a8\"],[0.3333333333333333,\"#9c179e\"],[0.4444444444444444,\"#bd3786\"],[0.5555555555555556,\"#d8576b\"],[0.6666666666666666,\"#ed7953\"],[0.7777777777777778,\"#fb9f3a\"],[0.8888888888888888,\"#fdca26\"],[1.0,\"#f0f921\"]],\"type\":\"heatmapgl\"}],\"heatmap\":[{\"colorbar\":{\"outlinewidth\":0,\"ticks\":\"\"},\"colorscale\":[[0.0,\"#0d0887\"],[0.1111111111111111,\"#46039f\"],[0.2222222222222222,\"#7201a8\"],[0.3333333333333333,\"#9c179e\"],[0.4444444444444444,\"#bd3786\"],[0.5555555555555556,\"#d8576b\"],[0.6666666666666666,\"#ed7953\"],[0.7777777777777778,\"#fb9f3a\"],[0.8888888888888888,\"#fdca26\"],[1.0,\"#f0f921\"]],\"type\":\"heatmap\"}],\"histogram2dcontour\":[{\"colorbar\":{\"outlinewidth\":0,\"ticks\":\"\"},\"colorscale\":[[0.0,\"#0d0887\"],[0.1111111111111111,\"#46039f\"],[0.2222222222222222,\"#7201a8\"],[0.3333333333333333,\"#9c179e\"],[0.4444444444444444,\"#bd3786\"],[0.5555555555555556,\"#d8576b\"],[0.6666666666666666,\"#ed7953\"],[0.7777777777777778,\"#fb9f3a\"],[0.8888888888888888,\"#fdca26\"],[1.0,\"#f0f921\"]],\"type\":\"histogram2dcontour\"}],\"histogram2d\":[{\"colorbar\":{\"outlinewidth\":0,\"ticks\":\"\"},\"colorscale\":[[0.0,\"#0d0887\"],[0.1111111111111111,\"#46039f\"],[0.2222222222222222,\"#7201a8\"],[0.3333333333333333,\"#9c179e\"],[0.4444444444444444,\"#bd3786\"],[0.5555555555555556,\"#d8576b\"],[0.6666666666666666,\"#ed7953\"],[0.7777777777777778,\"#fb9f3a\"],[0.8888888888888888,\"#fdca26\"],[1.0,\"#f0f921\"]],\"type\":\"histogram2d\"}],\"histogram\":[{\"marker\":{\"pattern\":{\"fillmode\":\"overlay\",\"size\":10,\"solidity\":0.2}},\"type\":\"histogram\"}],\"mesh3d\":[{\"colorbar\":{\"outlinewidth\":0,\"ticks\":\"\"},\"type\":\"mesh3d\"}],\"parcoords\":[{\"line\":{\"colorbar\":{\"outlinewidth\":0,\"ticks\":\"\"}},\"type\":\"parcoords\"}],\"pie\":[{\"automargin\":true,\"type\":\"pie\"}],\"scatter3d\":[{\"line\":{\"colorbar\":{\"outlinewidth\":0,\"ticks\":\"\"}},\"marker\":{\"colorbar\":{\"outlinewidth\":0,\"ticks\":\"\"}},\"type\":\"scatter3d\"}],\"scattercarpet\":[{\"marker\":{\"colorbar\":{\"outlinewidth\":0,\"ticks\":\"\"}},\"type\":\"scattercarpet\"}],\"scattergeo\":[{\"marker\":{\"colorbar\":{\"outlinewidth\":0,\"ticks\":\"\"}},\"type\":\"scattergeo\"}],\"scattergl\":[{\"marker\":{\"colorbar\":{\"outlinewidth\":0,\"ticks\":\"\"}},\"type\":\"scattergl\"}],\"scattermapbox\":[{\"marker\":{\"colorbar\":{\"outlinewidth\":0,\"ticks\":\"\"}},\"type\":\"scattermapbox\"}],\"scatterpolargl\":[{\"marker\":{\"colorbar\":{\"outlinewidth\":0,\"ticks\":\"\"}},\"type\":\"scatterpolargl\"}],\"scatterpolar\":[{\"marker\":{\"colorbar\":{\"outlinewidth\":0,\"ticks\":\"\"}},\"type\":\"scatterpolar\"}],\"scatter\":[{\"marker\":{\"colorbar\":{\"outlinewidth\":0,\"ticks\":\"\"}},\"type\":\"scatter\"}],\"scatterternary\":[{\"marker\":{\"colorbar\":{\"outlinewidth\":0,\"ticks\":\"\"}},\"type\":\"scatterternary\"}],\"surface\":[{\"colorbar\":{\"outlinewidth\":0,\"ticks\":\"\"},\"colorscale\":[[0.0,\"#0d0887\"],[0.1111111111111111,\"#46039f\"],[0.2222222222222222,\"#7201a8\"],[0.3333333333333333,\"#9c179e\"],[0.4444444444444444,\"#bd3786\"],[0.5555555555555556,\"#d8576b\"],[0.6666666666666666,\"#ed7953\"],[0.7777777777777778,\"#fb9f3a\"],[0.8888888888888888,\"#fdca26\"],[1.0,\"#f0f921\"]],\"type\":\"surface\"}],\"table\":[{\"cells\":{\"fill\":{\"color\":\"#EBF0F8\"},\"line\":{\"color\":\"white\"}},\"header\":{\"fill\":{\"color\":\"#C8D4E3\"},\"line\":{\"color\":\"white\"}},\"type\":\"table\"}]},\"layout\":{\"annotationdefaults\":{\"arrowcolor\":\"#2a3f5f\",\"arrowhead\":0,\"arrowwidth\":1},\"autotypenumbers\":\"strict\",\"coloraxis\":{\"colorbar\":{\"outlinewidth\":0,\"ticks\":\"\"}},\"colorscale\":{\"diverging\":[[0,\"#8e0152\"],[0.1,\"#c51b7d\"],[0.2,\"#de77ae\"],[0.3,\"#f1b6da\"],[0.4,\"#fde0ef\"],[0.5,\"#f7f7f7\"],[0.6,\"#e6f5d0\"],[0.7,\"#b8e186\"],[0.8,\"#7fbc41\"],[0.9,\"#4d9221\"],[1,\"#276419\"]],\"sequential\":[[0.0,\"#0d0887\"],[0.1111111111111111,\"#46039f\"],[0.2222222222222222,\"#7201a8\"],[0.3333333333333333,\"#9c179e\"],[0.4444444444444444,\"#bd3786\"],[0.5555555555555556,\"#d8576b\"],[0.6666666666666666,\"#ed7953\"],[0.7777777777777778,\"#fb9f3a\"],[0.8888888888888888,\"#fdca26\"],[1.0,\"#f0f921\"]],\"sequentialminus\":[[0.0,\"#0d0887\"],[0.1111111111111111,\"#46039f\"],[0.2222222222222222,\"#7201a8\"],[0.3333333333333333,\"#9c179e\"],[0.4444444444444444,\"#bd3786\"],[0.5555555555555556,\"#d8576b\"],[0.6666666666666666,\"#ed7953\"],[0.7777777777777778,\"#fb9f3a\"],[0.8888888888888888,\"#fdca26\"],[1.0,\"#f0f921\"]]},\"colorway\":[\"#636efa\",\"#EF553B\",\"#00cc96\",\"#ab63fa\",\"#FFA15A\",\"#19d3f3\",\"#FF6692\",\"#B6E880\",\"#FF97FF\",\"#FECB52\"],\"font\":{\"color\":\"#2a3f5f\"},\"geo\":{\"bgcolor\":\"white\",\"lakecolor\":\"white\",\"landcolor\":\"#E5ECF6\",\"showlakes\":true,\"showland\":true,\"subunitcolor\":\"white\"},\"hoverlabel\":{\"align\":\"left\"},\"hovermode\":\"closest\",\"mapbox\":{\"style\":\"light\"},\"paper_bgcolor\":\"white\",\"plot_bgcolor\":\"#E5ECF6\",\"polar\":{\"angularaxis\":{\"gridcolor\":\"white\",\"linecolor\":\"white\",\"ticks\":\"\"},\"bgcolor\":\"#E5ECF6\",\"radialaxis\":{\"gridcolor\":\"white\",\"linecolor\":\"white\",\"ticks\":\"\"}},\"scene\":{\"xaxis\":{\"backgroundcolor\":\"#E5ECF6\",\"gridcolor\":\"white\",\"gridwidth\":2,\"linecolor\":\"white\",\"showbackground\":true,\"ticks\":\"\",\"zerolinecolor\":\"white\"},\"yaxis\":{\"backgroundcolor\":\"#E5ECF6\",\"gridcolor\":\"white\",\"gridwidth\":2,\"linecolor\":\"white\",\"showbackground\":true,\"ticks\":\"\",\"zerolinecolor\":\"white\"},\"zaxis\":{\"backgroundcolor\":\"#E5ECF6\",\"gridcolor\":\"white\",\"gridwidth\":2,\"linecolor\":\"white\",\"showbackground\":true,\"ticks\":\"\",\"zerolinecolor\":\"white\"}},\"shapedefaults\":{\"line\":{\"color\":\"#2a3f5f\"}},\"ternary\":{\"aaxis\":{\"gridcolor\":\"white\",\"linecolor\":\"white\",\"ticks\":\"\"},\"baxis\":{\"gridcolor\":\"white\",\"linecolor\":\"white\",\"ticks\":\"\"},\"bgcolor\":\"#E5ECF6\",\"caxis\":{\"gridcolor\":\"white\",\"linecolor\":\"white\",\"ticks\":\"\"}},\"title\":{\"x\":0.05},\"xaxis\":{\"automargin\":true,\"gridcolor\":\"white\",\"linecolor\":\"white\",\"ticks\":\"\",\"title\":{\"standoff\":15},\"zerolinecolor\":\"white\",\"zerolinewidth\":2},\"yaxis\":{\"automargin\":true,\"gridcolor\":\"white\",\"linecolor\":\"white\",\"ticks\":\"\",\"title\":{\"standoff\":15},\"zerolinecolor\":\"white\",\"zerolinewidth\":2}}}},                        {\"responsive\": true}                    ).then(function(){\n",
       "                            \n",
       "var gd = document.getElementById('3c9476ee-9a87-4008-a0e8-4716e355ee5c');\n",
       "var x = new MutationObserver(function (mutations, observer) {{\n",
       "        var display = window.getComputedStyle(gd).display;\n",
       "        if (!display || display === 'none') {{\n",
       "            console.log([gd, 'removed!']);\n",
       "            Plotly.purge(gd);\n",
       "            observer.disconnect();\n",
       "        }}\n",
       "}});\n",
       "\n",
       "// Listen for the removal of the full notebook cells\n",
       "var notebookContainer = gd.closest('#notebook-container');\n",
       "if (notebookContainer) {{\n",
       "    x.observe(notebookContainer, {childList: true});\n",
       "}}\n",
       "\n",
       "// Listen for the clearing of the current output cell\n",
       "var outputEl = gd.closest('.output');\n",
       "if (outputEl) {{\n",
       "    x.observe(outputEl, {childList: true});\n",
       "}}\n",
       "\n",
       "                        }).then(function(){\n",
       "                            function downloadimage(format, height, width, filename) {var p = document.getElementById('3c9476ee-9a87-4008-a0e8-4716e355ee5c');Plotly.downloadImage(p, {format: format, height: height, width: width, filename: filename});};if(document.readyState == 'complete') {downloadimage('svg', 1280, 1280, 'water_without');}\n",
       "                        })                };                });            </script>        </div>"
      ]
     },
     "metadata": {},
     "output_type": "display_data"
    }
   ],
   "source": [
    "fig = px.sunburst(df1, path=['Country'], values='Percentage_without',\n",
    "                  color='Percentage_without',\n",
    "                  color_continuous_scale='RdBu_r',\n",
    "                  color_continuous_midpoint=np.average(df1['Percentage_without'], weights=df1['Percentage_without']))\n",
    "iplot(fig, image='svg', filename='water_without', image_width=1280, image_height=1280)"
   ]
  }
 ],
 "metadata": {
  "kernelspec": {
   "display_name": "Python 3",
   "language": "python",
   "name": "python3"
  },
  "language_info": {
   "codemirror_mode": {
    "name": "ipython",
    "version": 3
   },
   "file_extension": ".py",
   "mimetype": "text/x-python",
   "name": "python",
   "nbconvert_exporter": "python",
   "pygments_lexer": "ipython3",
   "version": "3.8.8"
  }
 },
 "nbformat": 4,
 "nbformat_minor": 5
}
